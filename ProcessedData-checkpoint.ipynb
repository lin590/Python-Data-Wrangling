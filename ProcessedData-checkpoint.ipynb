{
 "cells": [
  {
   "cell_type": "markdown",
   "metadata": {},
   "source": [
    "Importing both databases. Df possesses data only relating to the games and their sales, \n",
    "whereas df2 possesses information about the games, their sales, and how they were viewed by critics and consumers"
   ]
  },
  {
   "cell_type": "code",
   "execution_count": 2,
   "metadata": {},
   "outputs": [],
   "source": [
    "import pandas as pd"
   ]
  },
  {
   "cell_type": "code",
   "execution_count": 3,
   "metadata": {},
   "outputs": [],
   "source": [
    "import matplotlib.pyplot as plt"
   ]
  },
  {
   "cell_type": "code",
   "execution_count": 4,
   "metadata": {},
   "outputs": [],
   "source": [
    "df = pd.read_csv(\"vgsales.csv\",encoding='utf-8')"
   ]
  },
  {
   "cell_type": "code",
   "execution_count": 5,
   "metadata": {},
   "outputs": [],
   "source": [
    "df2 = pd.read_csv(\"Video_Games_Sales_as_at_22_Dec_2016.csv\",encoding='utf-8')"
   ]
  },
  {
   "cell_type": "markdown",
   "metadata": {},
   "source": [
    "Conversion of Dataset 1 to numeric values"
   ]
  },
  {
   "cell_type": "code",
   "execution_count": 6,
   "metadata": {},
   "outputs": [],
   "source": [
    "df['NA_Sales']=pd.to_numeric(df['NA_Sales'],errors='coerce')"
   ]
  },
  {
   "cell_type": "code",
   "execution_count": 7,
   "metadata": {},
   "outputs": [],
   "source": [
    "df['EU_Sales']=pd.to_numeric(df['EU_Sales'],errors='coerce')"
   ]
  },
  {
   "cell_type": "code",
   "execution_count": 8,
   "metadata": {},
   "outputs": [],
   "source": [
    "df['JP_Sales']=pd.to_numeric(df['JP_Sales'],errors='coerce')"
   ]
  },
  {
   "cell_type": "code",
   "execution_count": 9,
   "metadata": {},
   "outputs": [],
   "source": [
    "df['Other_Sales']=pd.to_numeric(df['Other_Sales'],errors='coerce')"
   ]
  },
  {
   "cell_type": "code",
   "execution_count": 10,
   "metadata": {},
   "outputs": [],
   "source": [
    "df['Global_Sales']=pd.to_numeric(df['Global_Sales'],errors='coerce')"
   ]
  },
  {
   "cell_type": "markdown",
   "metadata": {},
   "source": [
    "Cleaning Dataset 1 of any entries without values"
   ]
  },
  {
   "cell_type": "code",
   "execution_count": 11,
   "metadata": {},
   "outputs": [],
   "source": [
    "df_updated = df.dropna(subset=['NA_Sales','EU_Sales','JP_Sales','Other_Sales','Global_Sales'])"
   ]
  },
  {
   "cell_type": "markdown",
   "metadata": {},
   "source": [
    "Conversion of Dataset2 to numeric values"
   ]
  },
  {
   "cell_type": "code",
   "execution_count": 12,
   "metadata": {},
   "outputs": [],
   "source": [
    "df2['NA_Sales']=pd.to_numeric(df2['NA_Sales'],errors='coerce')"
   ]
  },
  {
   "cell_type": "code",
   "execution_count": 13,
   "metadata": {},
   "outputs": [],
   "source": [
    "df2['EU_Sales']=pd.to_numeric(df2['EU_Sales'],errors='coerce')"
   ]
  },
  {
   "cell_type": "code",
   "execution_count": 14,
   "metadata": {},
   "outputs": [],
   "source": [
    "df2['JP_Sales']=pd.to_numeric(df2['JP_Sales'],errors='coerce')"
   ]
  },
  {
   "cell_type": "code",
   "execution_count": 15,
   "metadata": {},
   "outputs": [],
   "source": [
    "df2['Other_Sales']=pd.to_numeric(df2['Other_Sales'],errors='coerce')"
   ]
  },
  {
   "cell_type": "code",
   "execution_count": 16,
   "metadata": {},
   "outputs": [],
   "source": [
    "df2['Global_Sales']=pd.to_numeric(df2['Global_Sales'],errors='coerce')"
   ]
  },
  {
   "cell_type": "markdown",
   "metadata": {},
   "source": [
    "Cleaning Dataset 2 of any entries that have no values in sales categories\n",
    "    *The reason for creating 2 versions of df2 is because while some values may not have a \n",
    "    critic score, they do possess values in terms of sales in various countries. This information\n",
    "    can be important for companies"
   ]
  },
  {
   "cell_type": "code",
   "execution_count": 17,
   "metadata": {},
   "outputs": [],
   "source": [
    "df2_updated = df2.dropna(subset=['NA_Sales','EU_Sales','JP_Sales','Other_Sales','Global_Sales'])"
   ]
  },
  {
   "cell_type": "markdown",
   "metadata": {},
   "source": [
    "Cleaning Dataset 2 of any entries that have no values in both sales categories and ratings"
   ]
  },
  {
   "cell_type": "code",
   "execution_count": 18,
   "metadata": {},
   "outputs": [],
   "source": [
    "df2_noscore = df2_updated.dropna(subset=['Critic_Score','Critic_Count','User_Score','User_Count'])"
   ]
  },
  {
   "cell_type": "code",
   "execution_count": null,
   "metadata": {},
   "outputs": [],
   "source": []
  },
  {
   "cell_type": "markdown",
   "metadata": {},
   "source": [
    "Confirming range of years needing to be covered"
   ]
  },
  {
   "cell_type": "code",
   "execution_count": 19,
   "metadata": {},
   "outputs": [],
   "source": [
    "grouped = df_updated.groupby('Year')"
   ]
  },
  {
   "cell_type": "code",
   "execution_count": 20,
   "metadata": {},
   "outputs": [
    {
     "data": {
      "text/html": [
       "<div>\n",
       "<style scoped>\n",
       "    .dataframe tbody tr th:only-of-type {\n",
       "        vertical-align: middle;\n",
       "    }\n",
       "\n",
       "    .dataframe tbody tr th {\n",
       "        vertical-align: top;\n",
       "    }\n",
       "\n",
       "    .dataframe thead th {\n",
       "        text-align: right;\n",
       "    }\n",
       "</style>\n",
       "<table border=\"1\" class=\"dataframe\">\n",
       "  <thead>\n",
       "    <tr style=\"text-align: right;\">\n",
       "      <th></th>\n",
       "      <th>Rank</th>\n",
       "      <th>NA_Sales</th>\n",
       "      <th>EU_Sales</th>\n",
       "      <th>JP_Sales</th>\n",
       "      <th>Other_Sales</th>\n",
       "      <th>Global_Sales</th>\n",
       "    </tr>\n",
       "    <tr>\n",
       "      <th>Year</th>\n",
       "      <th></th>\n",
       "      <th></th>\n",
       "      <th></th>\n",
       "      <th></th>\n",
       "      <th></th>\n",
       "      <th></th>\n",
       "    </tr>\n",
       "  </thead>\n",
       "  <tbody>\n",
       "    <tr>\n",
       "      <th>1980.0</th>\n",
       "      <td>6898</td>\n",
       "      <td>4.00</td>\n",
       "      <td>0.26</td>\n",
       "      <td>0.00</td>\n",
       "      <td>0.05</td>\n",
       "      <td>4.31</td>\n",
       "    </tr>\n",
       "    <tr>\n",
       "      <th>1981.0</th>\n",
       "      <td>9497</td>\n",
       "      <td>4.21</td>\n",
       "      <td>0.24</td>\n",
       "      <td>0.00</td>\n",
       "      <td>0.05</td>\n",
       "      <td>4.50</td>\n",
       "    </tr>\n",
       "    <tr>\n",
       "      <th>1982.0</th>\n",
       "      <td>9108</td>\n",
       "      <td>7.28</td>\n",
       "      <td>0.45</td>\n",
       "      <td>0.00</td>\n",
       "      <td>0.08</td>\n",
       "      <td>7.81</td>\n",
       "    </tr>\n",
       "    <tr>\n",
       "      <th>1983.0</th>\n",
       "      <td>8459</td>\n",
       "      <td>1.22</td>\n",
       "      <td>0.12</td>\n",
       "      <td>2.35</td>\n",
       "      <td>0.02</td>\n",
       "      <td>3.20</td>\n",
       "    </tr>\n",
       "    <tr>\n",
       "      <th>1984.0</th>\n",
       "      <td>6298</td>\n",
       "      <td>26.93</td>\n",
       "      <td>0.63</td>\n",
       "      <td>2.46</td>\n",
       "      <td>0.47</td>\n",
       "      <td>28.31</td>\n",
       "    </tr>\n",
       "    <tr>\n",
       "      <th>1985.0</th>\n",
       "      <td>15870</td>\n",
       "      <td>29.08</td>\n",
       "      <td>3.58</td>\n",
       "      <td>6.81</td>\n",
       "      <td>0.77</td>\n",
       "      <td>40.24</td>\n",
       "    </tr>\n",
       "    <tr>\n",
       "      <th>1986.0</th>\n",
       "      <td>5958</td>\n",
       "      <td>3.74</td>\n",
       "      <td>0.93</td>\n",
       "      <td>2.65</td>\n",
       "      <td>1.51</td>\n",
       "      <td>6.51</td>\n",
       "    </tr>\n",
       "    <tr>\n",
       "      <th>1987.0</th>\n",
       "      <td>11751</td>\n",
       "      <td>2.19</td>\n",
       "      <td>0.50</td>\n",
       "      <td>2.41</td>\n",
       "      <td>0.08</td>\n",
       "      <td>4.38</td>\n",
       "    </tr>\n",
       "    <tr>\n",
       "      <th>1988.0</th>\n",
       "      <td>14510</td>\n",
       "      <td>9.54</td>\n",
       "      <td>3.44</td>\n",
       "      <td>3.84</td>\n",
       "      <td>0.46</td>\n",
       "      <td>17.28</td>\n",
       "    </tr>\n",
       "    <tr>\n",
       "      <th>1989.0</th>\n",
       "      <td>12638</td>\n",
       "      <td>23.20</td>\n",
       "      <td>2.71</td>\n",
       "      <td>4.22</td>\n",
       "      <td>0.58</td>\n",
       "      <td>30.26</td>\n",
       "    </tr>\n",
       "    <tr>\n",
       "      <th>1990.0</th>\n",
       "      <td>5864</td>\n",
       "      <td>12.78</td>\n",
       "      <td>3.75</td>\n",
       "      <td>3.54</td>\n",
       "      <td>0.55</td>\n",
       "      <td>20.61</td>\n",
       "    </tr>\n",
       "    <tr>\n",
       "      <th>1991.0</th>\n",
       "      <td>13020</td>\n",
       "      <td>3.03</td>\n",
       "      <td>0.91</td>\n",
       "      <td>1.33</td>\n",
       "      <td>0.13</td>\n",
       "      <td>4.61</td>\n",
       "    </tr>\n",
       "    <tr>\n",
       "      <th>1992.0</th>\n",
       "      <td>16076</td>\n",
       "      <td>6.16</td>\n",
       "      <td>2.04</td>\n",
       "      <td>3.81</td>\n",
       "      <td>0.29</td>\n",
       "      <td>11.18</td>\n",
       "    </tr>\n",
       "    <tr>\n",
       "      <th>1993.0</th>\n",
       "      <td>16108</td>\n",
       "      <td>5.99</td>\n",
       "      <td>2.15</td>\n",
       "      <td>2.12</td>\n",
       "      <td>0.29</td>\n",
       "      <td>10.55</td>\n",
       "    </tr>\n",
       "    <tr>\n",
       "      <th>1994.0</th>\n",
       "      <td>16002</td>\n",
       "      <td>4.36</td>\n",
       "      <td>2.79</td>\n",
       "      <td>3.00</td>\n",
       "      <td>0.34</td>\n",
       "      <td>9.30</td>\n",
       "    </tr>\n",
       "    <tr>\n",
       "      <th>1995.0</th>\n",
       "      <td>16557</td>\n",
       "      <td>2.26</td>\n",
       "      <td>2.27</td>\n",
       "      <td>3.19</td>\n",
       "      <td>0.23</td>\n",
       "      <td>5.15</td>\n",
       "    </tr>\n",
       "    <tr>\n",
       "      <th>1996.0</th>\n",
       "      <td>16376</td>\n",
       "      <td>11.27</td>\n",
       "      <td>8.89</td>\n",
       "      <td>10.22</td>\n",
       "      <td>1.00</td>\n",
       "      <td>31.37</td>\n",
       "    </tr>\n",
       "    <tr>\n",
       "      <th>1997.0</th>\n",
       "      <td>16439</td>\n",
       "      <td>5.80</td>\n",
       "      <td>3.87</td>\n",
       "      <td>3.28</td>\n",
       "      <td>0.96</td>\n",
       "      <td>10.95</td>\n",
       "    </tr>\n",
       "    <tr>\n",
       "      <th>1998.0</th>\n",
       "      <td>15794</td>\n",
       "      <td>5.89</td>\n",
       "      <td>5.04</td>\n",
       "      <td>3.12</td>\n",
       "      <td>0.59</td>\n",
       "      <td>14.64</td>\n",
       "    </tr>\n",
       "    <tr>\n",
       "      <th>1999.0</th>\n",
       "      <td>16586</td>\n",
       "      <td>9.00</td>\n",
       "      <td>6.18</td>\n",
       "      <td>7.20</td>\n",
       "      <td>0.71</td>\n",
       "      <td>23.10</td>\n",
       "    </tr>\n",
       "    <tr>\n",
       "      <th>2000.0</th>\n",
       "      <td>16582</td>\n",
       "      <td>3.05</td>\n",
       "      <td>2.10</td>\n",
       "      <td>4.10</td>\n",
       "      <td>0.99</td>\n",
       "      <td>6.39</td>\n",
       "    </tr>\n",
       "    <tr>\n",
       "      <th>2001.0</th>\n",
       "      <td>16585</td>\n",
       "      <td>6.99</td>\n",
       "      <td>5.09</td>\n",
       "      <td>2.73</td>\n",
       "      <td>1.30</td>\n",
       "      <td>14.98</td>\n",
       "    </tr>\n",
       "    <tr>\n",
       "      <th>2002.0</th>\n",
       "      <td>16596</td>\n",
       "      <td>8.41</td>\n",
       "      <td>5.49</td>\n",
       "      <td>5.38</td>\n",
       "      <td>1.78</td>\n",
       "      <td>16.15</td>\n",
       "    </tr>\n",
       "    <tr>\n",
       "      <th>2003.0</th>\n",
       "      <td>16600</td>\n",
       "      <td>4.12</td>\n",
       "      <td>2.83</td>\n",
       "      <td>2.11</td>\n",
       "      <td>1.02</td>\n",
       "      <td>7.20</td>\n",
       "    </tr>\n",
       "    <tr>\n",
       "      <th>2004.0</th>\n",
       "      <td>16594</td>\n",
       "      <td>9.43</td>\n",
       "      <td>6.21</td>\n",
       "      <td>3.61</td>\n",
       "      <td>10.57</td>\n",
       "      <td>20.81</td>\n",
       "    </tr>\n",
       "    <tr>\n",
       "      <th>2005.0</th>\n",
       "      <td>16500</td>\n",
       "      <td>9.81</td>\n",
       "      <td>11.00</td>\n",
       "      <td>5.33</td>\n",
       "      <td>2.75</td>\n",
       "      <td>24.76</td>\n",
       "    </tr>\n",
       "    <tr>\n",
       "      <th>2006.0</th>\n",
       "      <td>16571</td>\n",
       "      <td>41.49</td>\n",
       "      <td>29.02</td>\n",
       "      <td>6.50</td>\n",
       "      <td>8.46</td>\n",
       "      <td>82.74</td>\n",
       "    </tr>\n",
       "    <tr>\n",
       "      <th>2007.0</th>\n",
       "      <td>16593</td>\n",
       "      <td>8.94</td>\n",
       "      <td>8.03</td>\n",
       "      <td>3.60</td>\n",
       "      <td>2.93</td>\n",
       "      <td>22.72</td>\n",
       "    </tr>\n",
       "    <tr>\n",
       "      <th>2008.0</th>\n",
       "      <td>16598</td>\n",
       "      <td>15.85</td>\n",
       "      <td>12.88</td>\n",
       "      <td>4.13</td>\n",
       "      <td>3.31</td>\n",
       "      <td>35.82</td>\n",
       "    </tr>\n",
       "    <tr>\n",
       "      <th>2009.0</th>\n",
       "      <td>16590</td>\n",
       "      <td>15.75</td>\n",
       "      <td>11.01</td>\n",
       "      <td>4.70</td>\n",
       "      <td>2.96</td>\n",
       "      <td>33.00</td>\n",
       "    </tr>\n",
       "    <tr>\n",
       "      <th>2010.0</th>\n",
       "      <td>16599</td>\n",
       "      <td>14.97</td>\n",
       "      <td>4.94</td>\n",
       "      <td>5.65</td>\n",
       "      <td>2.12</td>\n",
       "      <td>21.82</td>\n",
       "    </tr>\n",
       "    <tr>\n",
       "      <th>2011.0</th>\n",
       "      <td>16588</td>\n",
       "      <td>9.03</td>\n",
       "      <td>5.82</td>\n",
       "      <td>2.67</td>\n",
       "      <td>1.62</td>\n",
       "      <td>14.76</td>\n",
       "    </tr>\n",
       "    <tr>\n",
       "      <th>2012.0</th>\n",
       "      <td>16569</td>\n",
       "      <td>8.25</td>\n",
       "      <td>5.88</td>\n",
       "      <td>4.36</td>\n",
       "      <td>2.52</td>\n",
       "      <td>14.03</td>\n",
       "    </tr>\n",
       "    <tr>\n",
       "      <th>2013.0</th>\n",
       "      <td>16574</td>\n",
       "      <td>9.63</td>\n",
       "      <td>9.27</td>\n",
       "      <td>4.34</td>\n",
       "      <td>4.14</td>\n",
       "      <td>21.40</td>\n",
       "    </tr>\n",
       "    <tr>\n",
       "      <th>2014.0</th>\n",
       "      <td>16570</td>\n",
       "      <td>4.23</td>\n",
       "      <td>5.81</td>\n",
       "      <td>3.18</td>\n",
       "      <td>2.02</td>\n",
       "      <td>11.98</td>\n",
       "    </tr>\n",
       "    <tr>\n",
       "      <th>2015.0</th>\n",
       "      <td>16568</td>\n",
       "      <td>5.77</td>\n",
       "      <td>6.06</td>\n",
       "      <td>2.78</td>\n",
       "      <td>2.31</td>\n",
       "      <td>14.24</td>\n",
       "    </tr>\n",
       "    <tr>\n",
       "      <th>2016.0</th>\n",
       "      <td>16592</td>\n",
       "      <td>1.30</td>\n",
       "      <td>3.75</td>\n",
       "      <td>1.27</td>\n",
       "      <td>0.69</td>\n",
       "      <td>4.77</td>\n",
       "    </tr>\n",
       "    <tr>\n",
       "      <th>2017.0</th>\n",
       "      <td>16441</td>\n",
       "      <td>0.00</td>\n",
       "      <td>0.00</td>\n",
       "      <td>0.03</td>\n",
       "      <td>0.00</td>\n",
       "      <td>0.03</td>\n",
       "    </tr>\n",
       "    <tr>\n",
       "      <th>2020.0</th>\n",
       "      <td>5959</td>\n",
       "      <td>0.27</td>\n",
       "      <td>0.00</td>\n",
       "      <td>0.00</td>\n",
       "      <td>0.02</td>\n",
       "      <td>0.29</td>\n",
       "    </tr>\n",
       "  </tbody>\n",
       "</table>\n",
       "</div>"
      ],
      "text/plain": [
       "         Rank  NA_Sales  EU_Sales  JP_Sales  Other_Sales  Global_Sales\n",
       "Year                                                                  \n",
       "1980.0   6898      4.00      0.26      0.00         0.05          4.31\n",
       "1981.0   9497      4.21      0.24      0.00         0.05          4.50\n",
       "1982.0   9108      7.28      0.45      0.00         0.08          7.81\n",
       "1983.0   8459      1.22      0.12      2.35         0.02          3.20\n",
       "1984.0   6298     26.93      0.63      2.46         0.47         28.31\n",
       "1985.0  15870     29.08      3.58      6.81         0.77         40.24\n",
       "1986.0   5958      3.74      0.93      2.65         1.51          6.51\n",
       "1987.0  11751      2.19      0.50      2.41         0.08          4.38\n",
       "1988.0  14510      9.54      3.44      3.84         0.46         17.28\n",
       "1989.0  12638     23.20      2.71      4.22         0.58         30.26\n",
       "1990.0   5864     12.78      3.75      3.54         0.55         20.61\n",
       "1991.0  13020      3.03      0.91      1.33         0.13          4.61\n",
       "1992.0  16076      6.16      2.04      3.81         0.29         11.18\n",
       "1993.0  16108      5.99      2.15      2.12         0.29         10.55\n",
       "1994.0  16002      4.36      2.79      3.00         0.34          9.30\n",
       "1995.0  16557      2.26      2.27      3.19         0.23          5.15\n",
       "1996.0  16376     11.27      8.89     10.22         1.00         31.37\n",
       "1997.0  16439      5.80      3.87      3.28         0.96         10.95\n",
       "1998.0  15794      5.89      5.04      3.12         0.59         14.64\n",
       "1999.0  16586      9.00      6.18      7.20         0.71         23.10\n",
       "2000.0  16582      3.05      2.10      4.10         0.99          6.39\n",
       "2001.0  16585      6.99      5.09      2.73         1.30         14.98\n",
       "2002.0  16596      8.41      5.49      5.38         1.78         16.15\n",
       "2003.0  16600      4.12      2.83      2.11         1.02          7.20\n",
       "2004.0  16594      9.43      6.21      3.61        10.57         20.81\n",
       "2005.0  16500      9.81     11.00      5.33         2.75         24.76\n",
       "2006.0  16571     41.49     29.02      6.50         8.46         82.74\n",
       "2007.0  16593      8.94      8.03      3.60         2.93         22.72\n",
       "2008.0  16598     15.85     12.88      4.13         3.31         35.82\n",
       "2009.0  16590     15.75     11.01      4.70         2.96         33.00\n",
       "2010.0  16599     14.97      4.94      5.65         2.12         21.82\n",
       "2011.0  16588      9.03      5.82      2.67         1.62         14.76\n",
       "2012.0  16569      8.25      5.88      4.36         2.52         14.03\n",
       "2013.0  16574      9.63      9.27      4.34         4.14         21.40\n",
       "2014.0  16570      4.23      5.81      3.18         2.02         11.98\n",
       "2015.0  16568      5.77      6.06      2.78         2.31         14.24\n",
       "2016.0  16592      1.30      3.75      1.27         0.69          4.77\n",
       "2017.0  16441      0.00      0.00      0.03         0.00          0.03\n",
       "2020.0   5959      0.27      0.00      0.00         0.02          0.29"
      ]
     },
     "execution_count": 20,
     "metadata": {},
     "output_type": "execute_result"
    }
   ],
   "source": [
    "grouped.max('Year')"
   ]
  },
  {
   "cell_type": "markdown",
   "metadata": {},
   "source": [
    "Top Game Genres"
   ]
  },
  {
   "cell_type": "markdown",
   "metadata": {},
   "source": [
    "    Step 1: Create variables that is grouped by Genre type"
   ]
  },
  {
   "cell_type": "code",
   "execution_count": 21,
   "metadata": {},
   "outputs": [],
   "source": [
    "grouped_genre = df_updated.groupby('Genre')"
   ]
  },
  {
   "cell_type": "markdown",
   "metadata": {},
   "source": [
    "    Step 2: Narrow view down to Genre and Global Sales and add global sales of all entries by genre"
   ]
  },
  {
   "cell_type": "code",
   "execution_count": 22,
   "metadata": {},
   "outputs": [],
   "source": [
    "grouped_genre2 = grouped_genre[['Genre','Global_Sales']]"
   ]
  },
  {
   "cell_type": "code",
   "execution_count": 23,
   "metadata": {},
   "outputs": [],
   "source": [
    "grouptotal = grouped_genre2.sum()"
   ]
  },
  {
   "cell_type": "code",
   "execution_count": 24,
   "metadata": {},
   "outputs": [
    {
     "data": {
      "text/html": [
       "<div>\n",
       "<style scoped>\n",
       "    .dataframe tbody tr th:only-of-type {\n",
       "        vertical-align: middle;\n",
       "    }\n",
       "\n",
       "    .dataframe tbody tr th {\n",
       "        vertical-align: top;\n",
       "    }\n",
       "\n",
       "    .dataframe thead th {\n",
       "        text-align: right;\n",
       "    }\n",
       "</style>\n",
       "<table border=\"1\" class=\"dataframe\">\n",
       "  <thead>\n",
       "    <tr style=\"text-align: right;\">\n",
       "      <th></th>\n",
       "      <th>Global_Sales</th>\n",
       "    </tr>\n",
       "    <tr>\n",
       "      <th>Genre</th>\n",
       "      <th></th>\n",
       "    </tr>\n",
       "  </thead>\n",
       "  <tbody>\n",
       "    <tr>\n",
       "      <th>Action</th>\n",
       "      <td>1751.18</td>\n",
       "    </tr>\n",
       "    <tr>\n",
       "      <th>Adventure</th>\n",
       "      <td>239.04</td>\n",
       "    </tr>\n",
       "    <tr>\n",
       "      <th>Fighting</th>\n",
       "      <td>448.91</td>\n",
       "    </tr>\n",
       "    <tr>\n",
       "      <th>Misc</th>\n",
       "      <td>809.96</td>\n",
       "    </tr>\n",
       "    <tr>\n",
       "      <th>Platform</th>\n",
       "      <td>831.37</td>\n",
       "    </tr>\n",
       "  </tbody>\n",
       "</table>\n",
       "</div>"
      ],
      "text/plain": [
       "           Global_Sales\n",
       "Genre                  \n",
       "Action          1751.18\n",
       "Adventure        239.04\n",
       "Fighting         448.91\n",
       "Misc             809.96\n",
       "Platform         831.37"
      ]
     },
     "execution_count": 24,
     "metadata": {},
     "output_type": "execute_result"
    }
   ],
   "source": [
    "grouptotal.head()"
   ]
  },
  {
   "cell_type": "markdown",
   "metadata": {},
   "source": [
    "    Step 3: Create bar chart showing results"
   ]
  },
  {
   "cell_type": "markdown",
   "metadata": {},
   "source": [
    "The graph below is showing the total global salves value based on each gaming genre category"
   ]
  },
  {
   "cell_type": "code",
   "execution_count": 25,
   "metadata": {},
   "outputs": [
    {
     "data": {
      "text/plain": [
       "<AxesSubplot:title={'center':'Top Game Genres by Global Sales'}, xlabel='Genre'>"
      ]
     },
     "execution_count": 25,
     "metadata": {},
     "output_type": "execute_result"
    },
    {
     "data": {
      "image/png": "[encoded data removed]",
      "text/plain": [
       "<Figure size 432x288 with 1 Axes>"
      ]
     },
     "metadata": {
      "needs_background": "light"
     },
     "output_type": "display_data"
    }
   ],
   "source": [
    "grouptotal.plot(kind='bar',legend=None,title='Top Game Genres by Global Sales')"
   ]
  },
  {
   "cell_type": "markdown",
   "metadata": {},
   "source": [
    "The reason why a company may want to know the top gaming genres is to determine where a majority of their sales are\n",
    "coming from. This in turn can determine which projects may get more funding in the development stages, because of\n",
    "certain genres trending in the current market"
   ]
  },
  {
   "cell_type": "markdown",
   "metadata": {},
   "source": [
    "Top 5 Games by Country:"
   ]
  },
  {
   "cell_type": "markdown",
   "metadata": {},
   "source": [
    "    Step 1: Create 4 variables that possess Name, Platform and the assigned sales for each country"
   ]
  },
  {
   "cell_type": "code",
   "execution_count": 26,
   "metadata": {},
   "outputs": [],
   "source": [
    "games_NA = df_updated[['Name','Platform','NA_Sales']]"
   ]
  },
  {
   "cell_type": "code",
   "execution_count": 27,
   "metadata": {},
   "outputs": [],
   "source": [
    "games_EU = df_updated[['Name','Platform','EU_Sales']]"
   ]
  },
  {
   "cell_type": "code",
   "execution_count": 28,
   "metadata": {},
   "outputs": [],
   "source": [
    "games_JP = df_updated[['Name','Platform','JP_Sales']]"
   ]
  },
  {
   "cell_type": "code",
   "execution_count": 29,
   "metadata": {},
   "outputs": [],
   "source": [
    "games_Other = df_updated[['Name','Platform','Other_Sales']]"
   ]
  },
  {
   "cell_type": "markdown",
   "metadata": {},
   "source": [
    "    Step 2: Print the top 5 values for each country"
   ]
  },
  {
   "cell_type": "code",
   "execution_count": 30,
   "metadata": {},
   "outputs": [
    {
     "data": {
      "text/html": [
       "<div>\n",
       "<style scoped>\n",
       "    .dataframe tbody tr th:only-of-type {\n",
       "        vertical-align: middle;\n",
       "    }\n",
       "\n",
       "    .dataframe tbody tr th {\n",
       "        vertical-align: top;\n",
       "    }\n",
       "\n",
       "    .dataframe thead th {\n",
       "        text-align: right;\n",
       "    }\n",
       "</style>\n",
       "<table border=\"1\" class=\"dataframe\">\n",
       "  <thead>\n",
       "    <tr style=\"text-align: right;\">\n",
       "      <th></th>\n",
       "      <th>Name</th>\n",
       "      <th>Platform</th>\n",
       "      <th>NA_Sales</th>\n",
       "    </tr>\n",
       "  </thead>\n",
       "  <tbody>\n",
       "    <tr>\n",
       "      <th>0</th>\n",
       "      <td>Wii Sports</td>\n",
       "      <td>Wii</td>\n",
       "      <td>41.49</td>\n",
       "    </tr>\n",
       "    <tr>\n",
       "      <th>1</th>\n",
       "      <td>Super Mario Bros.</td>\n",
       "      <td>NES</td>\n",
       "      <td>29.08</td>\n",
       "    </tr>\n",
       "    <tr>\n",
       "      <th>9</th>\n",
       "      <td>Duck Hunt</td>\n",
       "      <td>NES</td>\n",
       "      <td>26.93</td>\n",
       "    </tr>\n",
       "    <tr>\n",
       "      <th>5</th>\n",
       "      <td>Tetris</td>\n",
       "      <td>GB</td>\n",
       "      <td>23.20</td>\n",
       "    </tr>\n",
       "    <tr>\n",
       "      <th>2</th>\n",
       "      <td>Mario Kart Wii</td>\n",
       "      <td>Wii</td>\n",
       "      <td>15.85</td>\n",
       "    </tr>\n",
       "  </tbody>\n",
       "</table>\n",
       "</div>"
      ],
      "text/plain": [
       "                Name Platform  NA_Sales\n",
       "0         Wii Sports      Wii     41.49\n",
       "1  Super Mario Bros.      NES     29.08\n",
       "9          Duck Hunt      NES     26.93\n",
       "5             Tetris       GB     23.20\n",
       "2     Mario Kart Wii      Wii     15.85"
      ]
     },
     "execution_count": 30,
     "metadata": {},
     "output_type": "execute_result"
    }
   ],
   "source": [
    "games_NA.nlargest(5, 'NA_Sales')"
   ]
  },
  {
   "cell_type": "code",
   "execution_count": 31,
   "metadata": {},
   "outputs": [
    {
     "data": {
      "text/html": [
       "<div>\n",
       "<style scoped>\n",
       "    .dataframe tbody tr th:only-of-type {\n",
       "        vertical-align: middle;\n",
       "    }\n",
       "\n",
       "    .dataframe tbody tr th {\n",
       "        vertical-align: top;\n",
       "    }\n",
       "\n",
       "    .dataframe thead th {\n",
       "        text-align: right;\n",
       "    }\n",
       "</style>\n",
       "<table border=\"1\" class=\"dataframe\">\n",
       "  <thead>\n",
       "    <tr style=\"text-align: right;\">\n",
       "      <th></th>\n",
       "      <th>Name</th>\n",
       "      <th>Platform</th>\n",
       "      <th>EU_Sales</th>\n",
       "    </tr>\n",
       "  </thead>\n",
       "  <tbody>\n",
       "    <tr>\n",
       "      <th>0</th>\n",
       "      <td>Wii Sports</td>\n",
       "      <td>Wii</td>\n",
       "      <td>29.02</td>\n",
       "    </tr>\n",
       "    <tr>\n",
       "      <th>2</th>\n",
       "      <td>Mario Kart Wii</td>\n",
       "      <td>Wii</td>\n",
       "      <td>12.88</td>\n",
       "    </tr>\n",
       "    <tr>\n",
       "      <th>3</th>\n",
       "      <td>Wii Sports Resort</td>\n",
       "      <td>Wii</td>\n",
       "      <td>11.01</td>\n",
       "    </tr>\n",
       "    <tr>\n",
       "      <th>10</th>\n",
       "      <td>Nintendogs</td>\n",
       "      <td>DS</td>\n",
       "      <td>11.00</td>\n",
       "    </tr>\n",
       "    <tr>\n",
       "      <th>16</th>\n",
       "      <td>Grand Theft Auto V</td>\n",
       "      <td>PS3</td>\n",
       "      <td>9.27</td>\n",
       "    </tr>\n",
       "  </tbody>\n",
       "</table>\n",
       "</div>"
      ],
      "text/plain": [
       "                  Name Platform  EU_Sales\n",
       "0           Wii Sports      Wii     29.02\n",
       "2       Mario Kart Wii      Wii     12.88\n",
       "3    Wii Sports Resort      Wii     11.01\n",
       "10          Nintendogs       DS     11.00\n",
       "16  Grand Theft Auto V      PS3      9.27"
      ]
     },
     "execution_count": 31,
     "metadata": {},
     "output_type": "execute_result"
    }
   ],
   "source": [
    "games_EU.nlargest(5, 'EU_Sales')"
   ]
  },
  {
   "cell_type": "code",
   "execution_count": 32,
   "metadata": {},
   "outputs": [
    {
     "data": {
      "text/html": [
       "<div>\n",
       "<style scoped>\n",
       "    .dataframe tbody tr th:only-of-type {\n",
       "        vertical-align: middle;\n",
       "    }\n",
       "\n",
       "    .dataframe tbody tr th {\n",
       "        vertical-align: top;\n",
       "    }\n",
       "\n",
       "    .dataframe thead th {\n",
       "        text-align: right;\n",
       "    }\n",
       "</style>\n",
       "<table border=\"1\" class=\"dataframe\">\n",
       "  <thead>\n",
       "    <tr style=\"text-align: right;\">\n",
       "      <th></th>\n",
       "      <th>Name</th>\n",
       "      <th>Platform</th>\n",
       "      <th>JP_Sales</th>\n",
       "    </tr>\n",
       "  </thead>\n",
       "  <tbody>\n",
       "    <tr>\n",
       "      <th>4</th>\n",
       "      <td>Pokemon Red/Pokemon Blue</td>\n",
       "      <td>GB</td>\n",
       "      <td>10.22</td>\n",
       "    </tr>\n",
       "    <tr>\n",
       "      <th>12</th>\n",
       "      <td>Pokemon Gold/Pokemon Silver</td>\n",
       "      <td>GB</td>\n",
       "      <td>7.20</td>\n",
       "    </tr>\n",
       "    <tr>\n",
       "      <th>1</th>\n",
       "      <td>Super Mario Bros.</td>\n",
       "      <td>NES</td>\n",
       "      <td>6.81</td>\n",
       "    </tr>\n",
       "    <tr>\n",
       "      <th>6</th>\n",
       "      <td>New Super Mario Bros.</td>\n",
       "      <td>DS</td>\n",
       "      <td>6.50</td>\n",
       "    </tr>\n",
       "    <tr>\n",
       "      <th>20</th>\n",
       "      <td>Pokemon Diamond/Pokemon Pearl</td>\n",
       "      <td>DS</td>\n",
       "      <td>6.04</td>\n",
       "    </tr>\n",
       "  </tbody>\n",
       "</table>\n",
       "</div>"
      ],
      "text/plain": [
       "                             Name Platform  JP_Sales\n",
       "4        Pokemon Red/Pokemon Blue       GB     10.22\n",
       "12    Pokemon Gold/Pokemon Silver       GB      7.20\n",
       "1               Super Mario Bros.      NES      6.81\n",
       "6           New Super Mario Bros.       DS      6.50\n",
       "20  Pokemon Diamond/Pokemon Pearl       DS      6.04"
      ]
     },
     "execution_count": 32,
     "metadata": {},
     "output_type": "execute_result"
    }
   ],
   "source": [
    "games_JP.nlargest(5, 'JP_Sales')"
   ]
  },
  {
   "cell_type": "code",
   "execution_count": 33,
   "metadata": {},
   "outputs": [
    {
     "data": {
      "text/html": [
       "<div>\n",
       "<style scoped>\n",
       "    .dataframe tbody tr th:only-of-type {\n",
       "        vertical-align: middle;\n",
       "    }\n",
       "\n",
       "    .dataframe tbody tr th {\n",
       "        vertical-align: top;\n",
       "    }\n",
       "\n",
       "    .dataframe thead th {\n",
       "        text-align: right;\n",
       "    }\n",
       "</style>\n",
       "<table border=\"1\" class=\"dataframe\">\n",
       "  <thead>\n",
       "    <tr style=\"text-align: right;\">\n",
       "      <th></th>\n",
       "      <th>Name</th>\n",
       "      <th>Platform</th>\n",
       "      <th>Other_Sales</th>\n",
       "    </tr>\n",
       "  </thead>\n",
       "  <tbody>\n",
       "    <tr>\n",
       "      <th>17</th>\n",
       "      <td>Grand Theft Auto: San Andreas</td>\n",
       "      <td>PS2</td>\n",
       "      <td>10.57</td>\n",
       "    </tr>\n",
       "    <tr>\n",
       "      <th>0</th>\n",
       "      <td>Wii Sports</td>\n",
       "      <td>Wii</td>\n",
       "      <td>8.46</td>\n",
       "    </tr>\n",
       "    <tr>\n",
       "      <th>47</th>\n",
       "      <td>Gran Turismo 4</td>\n",
       "      <td>PS2</td>\n",
       "      <td>7.53</td>\n",
       "    </tr>\n",
       "    <tr>\n",
       "      <th>16</th>\n",
       "      <td>Grand Theft Auto V</td>\n",
       "      <td>PS3</td>\n",
       "      <td>4.14</td>\n",
       "    </tr>\n",
       "    <tr>\n",
       "      <th>2</th>\n",
       "      <td>Mario Kart Wii</td>\n",
       "      <td>Wii</td>\n",
       "      <td>3.31</td>\n",
       "    </tr>\n",
       "  </tbody>\n",
       "</table>\n",
       "</div>"
      ],
      "text/plain": [
       "                             Name Platform  Other_Sales\n",
       "17  Grand Theft Auto: San Andreas      PS2        10.57\n",
       "0                      Wii Sports      Wii         8.46\n",
       "47                 Gran Turismo 4      PS2         7.53\n",
       "16             Grand Theft Auto V      PS3         4.14\n",
       "2                  Mario Kart Wii      Wii         3.31"
      ]
     },
     "execution_count": 33,
     "metadata": {},
     "output_type": "execute_result"
    }
   ],
   "source": [
    "games_Other.nlargest(5, 'Other_Sales')"
   ]
  },
  {
   "cell_type": "code",
   "execution_count": null,
   "metadata": {},
   "outputs": [],
   "source": []
  },
  {
   "cell_type": "markdown",
   "metadata": {},
   "source": [
    "Top 10 Games by Global Sales"
   ]
  },
  {
   "cell_type": "markdown",
   "metadata": {},
   "source": [
    "    Step 1: Create variable that possess Name, Platform, Year, and Global Sales"
   ]
  },
  {
   "cell_type": "code",
   "execution_count": 34,
   "metadata": {},
   "outputs": [],
   "source": [
    "games_by_sales = df_updated[['Name','Platform','Year','Global_Sales']]"
   ]
  },
  {
   "cell_type": "code",
   "execution_count": null,
   "metadata": {},
   "outputs": [],
   "source": []
  },
  {
   "cell_type": "markdown",
   "metadata": {},
   "source": [
    "    Step 2: Print the top 10 results of the variable"
   ]
  },
  {
   "cell_type": "code",
   "execution_count": 35,
   "metadata": {},
   "outputs": [
    {
     "data": {
      "text/html": [
       "<div>\n",
       "<style scoped>\n",
       "    .dataframe tbody tr th:only-of-type {\n",
       "        vertical-align: middle;\n",
       "    }\n",
       "\n",
       "    .dataframe tbody tr th {\n",
       "        vertical-align: top;\n",
       "    }\n",
       "\n",
       "    .dataframe thead th {\n",
       "        text-align: right;\n",
       "    }\n",
       "</style>\n",
       "<table border=\"1\" class=\"dataframe\">\n",
       "  <thead>\n",
       "    <tr style=\"text-align: right;\">\n",
       "      <th></th>\n",
       "      <th>Name</th>\n",
       "      <th>Platform</th>\n",
       "      <th>Year</th>\n",
       "      <th>Global_Sales</th>\n",
       "    </tr>\n",
       "  </thead>\n",
       "  <tbody>\n",
       "    <tr>\n",
       "      <th>0</th>\n",
       "      <td>Wii Sports</td>\n",
       "      <td>Wii</td>\n",
       "      <td>2006.0</td>\n",
       "      <td>82.74</td>\n",
       "    </tr>\n",
       "    <tr>\n",
       "      <th>1</th>\n",
       "      <td>Super Mario Bros.</td>\n",
       "      <td>NES</td>\n",
       "      <td>1985.0</td>\n",
       "      <td>40.24</td>\n",
       "    </tr>\n",
       "    <tr>\n",
       "      <th>2</th>\n",
       "      <td>Mario Kart Wii</td>\n",
       "      <td>Wii</td>\n",
       "      <td>2008.0</td>\n",
       "      <td>35.82</td>\n",
       "    </tr>\n",
       "    <tr>\n",
       "      <th>3</th>\n",
       "      <td>Wii Sports Resort</td>\n",
       "      <td>Wii</td>\n",
       "      <td>2009.0</td>\n",
       "      <td>33.00</td>\n",
       "    </tr>\n",
       "    <tr>\n",
       "      <th>4</th>\n",
       "      <td>Pokemon Red/Pokemon Blue</td>\n",
       "      <td>GB</td>\n",
       "      <td>1996.0</td>\n",
       "      <td>31.37</td>\n",
       "    </tr>\n",
       "    <tr>\n",
       "      <th>5</th>\n",
       "      <td>Tetris</td>\n",
       "      <td>GB</td>\n",
       "      <td>1989.0</td>\n",
       "      <td>30.26</td>\n",
       "    </tr>\n",
       "    <tr>\n",
       "      <th>6</th>\n",
       "      <td>New Super Mario Bros.</td>\n",
       "      <td>DS</td>\n",
       "      <td>2006.0</td>\n",
       "      <td>30.01</td>\n",
       "    </tr>\n",
       "    <tr>\n",
       "      <th>7</th>\n",
       "      <td>Wii Play</td>\n",
       "      <td>Wii</td>\n",
       "      <td>2006.0</td>\n",
       "      <td>29.02</td>\n",
       "    </tr>\n",
       "    <tr>\n",
       "      <th>8</th>\n",
       "      <td>New Super Mario Bros. Wii</td>\n",
       "      <td>Wii</td>\n",
       "      <td>2009.0</td>\n",
       "      <td>28.62</td>\n",
       "    </tr>\n",
       "    <tr>\n",
       "      <th>9</th>\n",
       "      <td>Duck Hunt</td>\n",
       "      <td>NES</td>\n",
       "      <td>1984.0</td>\n",
       "      <td>28.31</td>\n",
       "    </tr>\n",
       "  </tbody>\n",
       "</table>\n",
       "</div>"
      ],
      "text/plain": [
       "                        Name Platform    Year  Global_Sales\n",
       "0                 Wii Sports      Wii  2006.0         82.74\n",
       "1          Super Mario Bros.      NES  1985.0         40.24\n",
       "2             Mario Kart Wii      Wii  2008.0         35.82\n",
       "3          Wii Sports Resort      Wii  2009.0         33.00\n",
       "4   Pokemon Red/Pokemon Blue       GB  1996.0         31.37\n",
       "5                     Tetris       GB  1989.0         30.26\n",
       "6      New Super Mario Bros.       DS  2006.0         30.01\n",
       "7                   Wii Play      Wii  2006.0         29.02\n",
       "8  New Super Mario Bros. Wii      Wii  2009.0         28.62\n",
       "9                  Duck Hunt      NES  1984.0         28.31"
      ]
     },
     "execution_count": 35,
     "metadata": {},
     "output_type": "execute_result"
    }
   ],
   "source": [
    "games_by_sales.nlargest(10, ['Global_Sales'])"
   ]
  },
  {
   "cell_type": "code",
   "execution_count": null,
   "metadata": {},
   "outputs": [],
   "source": []
  },
  {
   "cell_type": "markdown",
   "metadata": {},
   "source": [
    "Top 10 Games by Critic Review"
   ]
  },
  {
   "cell_type": "markdown",
   "metadata": {},
   "source": [
    "    Step 1: Create a variable that possesses Name, Platform, Critic Score, "
   ]
  },
  {
   "cell_type": "code",
   "execution_count": 36,
   "metadata": {},
   "outputs": [],
   "source": [
    "games_by_critic = df2_noscore[['Name','Platform','Critic_Score']]"
   ]
  },
  {
   "cell_type": "markdown",
   "metadata": {},
   "source": [
    "    Step 2: Display game with highest critic score"
   ]
  },
  {
   "cell_type": "code",
   "execution_count": 37,
   "metadata": {},
   "outputs": [
    {
     "data": {
      "text/html": [
       "<div>\n",
       "<style scoped>\n",
       "    .dataframe tbody tr th:only-of-type {\n",
       "        vertical-align: middle;\n",
       "    }\n",
       "\n",
       "    .dataframe tbody tr th {\n",
       "        vertical-align: top;\n",
       "    }\n",
       "\n",
       "    .dataframe thead th {\n",
       "        text-align: right;\n",
       "    }\n",
       "</style>\n",
       "<table border=\"1\" class=\"dataframe\">\n",
       "  <thead>\n",
       "    <tr style=\"text-align: right;\">\n",
       "      <th></th>\n",
       "      <th>Name</th>\n",
       "      <th>Platform</th>\n",
       "      <th>Critic_Score</th>\n",
       "    </tr>\n",
       "  </thead>\n",
       "  <tbody>\n",
       "    <tr>\n",
       "      <th>51</th>\n",
       "      <td>Grand Theft Auto IV</td>\n",
       "      <td>X360</td>\n",
       "      <td>98.0</td>\n",
       "    </tr>\n",
       "    <tr>\n",
       "      <th>57</th>\n",
       "      <td>Grand Theft Auto IV</td>\n",
       "      <td>PS3</td>\n",
       "      <td>98.0</td>\n",
       "    </tr>\n",
       "    <tr>\n",
       "      <th>227</th>\n",
       "      <td>Tony Hawk's Pro Skater 2</td>\n",
       "      <td>PS</td>\n",
       "      <td>98.0</td>\n",
       "    </tr>\n",
       "    <tr>\n",
       "      <th>5350</th>\n",
       "      <td>SoulCalibur</td>\n",
       "      <td>DC</td>\n",
       "      <td>98.0</td>\n",
       "    </tr>\n",
       "    <tr>\n",
       "      <th>16</th>\n",
       "      <td>Grand Theft Auto V</td>\n",
       "      <td>PS3</td>\n",
       "      <td>97.0</td>\n",
       "    </tr>\n",
       "    <tr>\n",
       "      <th>23</th>\n",
       "      <td>Grand Theft Auto V</td>\n",
       "      <td>X360</td>\n",
       "      <td>97.0</td>\n",
       "    </tr>\n",
       "    <tr>\n",
       "      <th>38</th>\n",
       "      <td>Grand Theft Auto III</td>\n",
       "      <td>PS2</td>\n",
       "      <td>97.0</td>\n",
       "    </tr>\n",
       "    <tr>\n",
       "      <th>42</th>\n",
       "      <td>Grand Theft Auto V</td>\n",
       "      <td>PS4</td>\n",
       "      <td>97.0</td>\n",
       "    </tr>\n",
       "    <tr>\n",
       "      <th>49</th>\n",
       "      <td>Super Mario Galaxy</td>\n",
       "      <td>Wii</td>\n",
       "      <td>97.0</td>\n",
       "    </tr>\n",
       "    <tr>\n",
       "      <th>97</th>\n",
       "      <td>Super Mario Galaxy 2</td>\n",
       "      <td>Wii</td>\n",
       "      <td>97.0</td>\n",
       "    </tr>\n",
       "  </tbody>\n",
       "</table>\n",
       "</div>"
      ],
      "text/plain": [
       "                          Name Platform  Critic_Score\n",
       "51         Grand Theft Auto IV     X360          98.0\n",
       "57         Grand Theft Auto IV      PS3          98.0\n",
       "227   Tony Hawk's Pro Skater 2       PS          98.0\n",
       "5350               SoulCalibur       DC          98.0\n",
       "16          Grand Theft Auto V      PS3          97.0\n",
       "23          Grand Theft Auto V     X360          97.0\n",
       "38        Grand Theft Auto III      PS2          97.0\n",
       "42          Grand Theft Auto V      PS4          97.0\n",
       "49          Super Mario Galaxy      Wii          97.0\n",
       "97        Super Mario Galaxy 2      Wii          97.0"
      ]
     },
     "execution_count": 37,
     "metadata": {},
     "output_type": "execute_result"
    }
   ],
   "source": [
    "games_by_critic.nlargest(10, ['Critic_Score'])"
   ]
  },
  {
   "cell_type": "code",
   "execution_count": null,
   "metadata": {},
   "outputs": [],
   "source": []
  },
  {
   "cell_type": "markdown",
   "metadata": {},
   "source": [
    "What is the difference between top 10 games by critic review and top 10 games by user review?"
   ]
  },
  {
   "cell_type": "markdown",
   "metadata": {},
   "source": [
    "    Step 1: Create variable that finds highest game by user review"
   ]
  },
  {
   "cell_type": "markdown",
   "metadata": {},
   "source": [
    "    Issue: Becuase the User_Score is originally an object data type I had to go in and change the type to a float as\n",
    "    seen down below"
   ]
  },
  {
   "cell_type": "code",
   "execution_count": 38,
   "metadata": {},
   "outputs": [
    {
     "name": "stderr",
     "output_type": "stream",
     "text": [
      "<ipython-input-38-32254ccfb945>:1: SettingWithCopyWarning: \n",
      "A value is trying to be set on a copy of a slice from a DataFrame.\n",
      "Try using .loc[row_indexer,col_indexer] = value instead\n",
      "\n",
      "See the caveats in the documentation: https://pandas.pydata.org/pandas-docs/stable/user_guide/indexing.html#returning-a-view-versus-a-copy\n",
      "  df2_noscore['User_Score'] = df2_noscore.User_Score.astype(float)\n"
     ]
    }
   ],
   "source": [
    "df2_noscore['User_Score'] = df2_noscore.User_Score.astype(float)"
   ]
  },
  {
   "cell_type": "code",
   "execution_count": 39,
   "metadata": {},
   "outputs": [],
   "source": [
    "games_by_user = df2_noscore[['Name','Platform','User_Score']]"
   ]
  },
  {
   "cell_type": "code",
   "execution_count": 40,
   "metadata": {},
   "outputs": [
    {
     "data": {
      "text/html": [
       "<div>\n",
       "<style scoped>\n",
       "    .dataframe tbody tr th:only-of-type {\n",
       "        vertical-align: middle;\n",
       "    }\n",
       "\n",
       "    .dataframe tbody tr th {\n",
       "        vertical-align: top;\n",
       "    }\n",
       "\n",
       "    .dataframe thead th {\n",
       "        text-align: right;\n",
       "    }\n",
       "</style>\n",
       "<table border=\"1\" class=\"dataframe\">\n",
       "  <thead>\n",
       "    <tr style=\"text-align: right;\">\n",
       "      <th></th>\n",
       "      <th>Name</th>\n",
       "      <th>Platform</th>\n",
       "      <th>User_Score</th>\n",
       "    </tr>\n",
       "  </thead>\n",
       "  <tbody>\n",
       "    <tr>\n",
       "      <th>3417</th>\n",
       "      <td>Harvest Moon: Friends of Mineral Town</td>\n",
       "      <td>GBA</td>\n",
       "      <td>9.6</td>\n",
       "    </tr>\n",
       "    <tr>\n",
       "      <th>8976</th>\n",
       "      <td>Boktai: The Sun is in Your Hand</td>\n",
       "      <td>GBA</td>\n",
       "      <td>9.6</td>\n",
       "    </tr>\n",
       "    <tr>\n",
       "      <th>1645</th>\n",
       "      <td>Golden Sun: The Lost Age</td>\n",
       "      <td>GBA</td>\n",
       "      <td>9.5</td>\n",
       "    </tr>\n",
       "    <tr>\n",
       "      <th>5920</th>\n",
       "      <td>MLB SlugFest Loaded</td>\n",
       "      <td>PS2</td>\n",
       "      <td>9.5</td>\n",
       "    </tr>\n",
       "    <tr>\n",
       "      <th>11120</th>\n",
       "      <td>Super Puzzle Fighter II</td>\n",
       "      <td>GBA</td>\n",
       "      <td>9.5</td>\n",
       "    </tr>\n",
       "    <tr>\n",
       "      <th>16550</th>\n",
       "      <td>Wade Hixton's Counter Punch</td>\n",
       "      <td>GBA</td>\n",
       "      <td>9.5</td>\n",
       "    </tr>\n",
       "    <tr>\n",
       "      <th>16631</th>\n",
       "      <td>Karnaaj Rally</td>\n",
       "      <td>GBA</td>\n",
       "      <td>9.5</td>\n",
       "    </tr>\n",
       "    <tr>\n",
       "      <th>146</th>\n",
       "      <td>Metal Gear Solid</td>\n",
       "      <td>PS</td>\n",
       "      <td>9.4</td>\n",
       "    </tr>\n",
       "    <tr>\n",
       "      <th>712</th>\n",
       "      <td>Paper Mario: The Thousand-Year Door</td>\n",
       "      <td>GC</td>\n",
       "      <td>9.4</td>\n",
       "    </tr>\n",
       "    <tr>\n",
       "      <th>1068</th>\n",
       "      <td>Resident Evil 4</td>\n",
       "      <td>GC</td>\n",
       "      <td>9.4</td>\n",
       "    </tr>\n",
       "  </tbody>\n",
       "</table>\n",
       "</div>"
      ],
      "text/plain": [
       "                                        Name Platform  User_Score\n",
       "3417   Harvest Moon: Friends of Mineral Town      GBA         9.6\n",
       "8976         Boktai: The Sun is in Your Hand      GBA         9.6\n",
       "1645                Golden Sun: The Lost Age      GBA         9.5\n",
       "5920                     MLB SlugFest Loaded      PS2         9.5\n",
       "11120                Super Puzzle Fighter II      GBA         9.5\n",
       "16550            Wade Hixton's Counter Punch      GBA         9.5\n",
       "16631                          Karnaaj Rally      GBA         9.5\n",
       "146                         Metal Gear Solid       PS         9.4\n",
       "712      Paper Mario: The Thousand-Year Door       GC         9.4\n",
       "1068                         Resident Evil 4       GC         9.4"
      ]
     },
     "execution_count": 40,
     "metadata": {},
     "output_type": "execute_result"
    }
   ],
   "source": [
    "games_by_user.nlargest(10, 'User_Score')"
   ]
  },
  {
   "cell_type": "code",
   "execution_count": null,
   "metadata": {},
   "outputs": [],
   "source": []
  },
  {
   "cell_type": "markdown",
   "metadata": {},
   "source": [
    "    Step 2: Assign scores and entry number (1-10) to x and y and print table\n",
    "        *Due to user score and critic score being compared on 2 different scales (critic being 1-100 and user being 1-10)\n",
    "        the y entries for user score will be reflected with a conversion to a 1-100 scale) "
   ]
  },
  {
   "cell_type": "code",
   "execution_count": 41,
   "metadata": {},
   "outputs": [],
   "source": [
    "xuser=[1,2,3,4,5,6,7,8,9,10]\n",
    "yuser=[96.0,96.0,95.0,95.0,95.0,95.0,95.0,94.0,94.0,94.0]"
   ]
  },
  {
   "cell_type": "code",
   "execution_count": 42,
   "metadata": {},
   "outputs": [],
   "source": [
    "xcritic=[1,2,3,4,5,6,7,8,9,10]\n",
    "ycritic=[98.0,98.0,98.0,98.0,97.0,97.0,97.0,97.0,97.0,97.0]"
   ]
  },
  {
   "cell_type": "markdown",
   "metadata": {},
   "source": [
    "The data below is showing the associated score for each game listed in the game_by_critic dataframe and the\n",
    "game_by_user dataframe. Because each game from each dataframe was presented in descending order, each game, was given a\n",
    "number 1-10 in order to make the comparison easier."
   ]
  },
  {
   "cell_type": "code",
   "execution_count": 43,
   "metadata": {},
   "outputs": [
    {
     "data": {
      "image/png": "[encoded data removed]",
      "text/plain": [
       "<Figure size 432x288 with 1 Axes>"
      ]
     },
     "metadata": {
      "needs_background": "light"
     },
     "output_type": "display_data"
    }
   ],
   "source": [
    "plt.plot(xuser,yuser,'-bo',label='User Scores')\n",
    "plt.plot(xcritic,ycritic,'-go',label='Critic Scores')\n",
    "\n",
    "plt.title('Top 10 Games Based on User and Critic Reviews')\n",
    "ax =plt.gca()\n",
    "ax.set_xlabel('Rating of games 1-10')\n",
    "ax.set_ylabel('')\n",
    "plt.legend()\n",
    "plt.show()"
   ]
  },
  {
   "cell_type": "markdown",
   "metadata": {},
   "source": [
    "This data is extrememly useful for companies because they can compare the ratings of the users and the critics and see if there\n",
    "are any similarities. However, the biggest thing to note when looking at this data, is that the top 10 games by user and critic\n",
    "ratings are significantly different in terms of genre. Despite this difference, the user rating is overall higher, compared\n",
    "to the critic rating. This means if a company wanted to, they could go further ind epth with their analysis by comparing\n",
    "the critic score and the user score for each of the games listed in the game_by_user dataframe and the game_by_critic\n",
    "dataframe to see how close the ratings are to each other for each game."
   ]
  },
  {
   "cell_type": "code",
   "execution_count": null,
   "metadata": {},
   "outputs": [],
   "source": []
  },
  {
   "cell_type": "markdown",
   "metadata": {},
   "source": [
    "Top 10 Gaming Systems by Global Sales"
   ]
  },
  {
   "cell_type": "markdown",
   "metadata": {},
   "source": [
    "    Step 1: Group by each Platform/gaming system and display results"
   ]
  },
  {
   "cell_type": "code",
   "execution_count": 44,
   "metadata": {},
   "outputs": [],
   "source": [
    "grouped_system = df_updated.groupby('Platform')"
   ]
  },
  {
   "cell_type": "markdown",
   "metadata": {},
   "source": [
    "    Step 2: Narrow results to only show the Platform, Year, and Global Sales. Then print the average global sales for each sytem"
   ]
  },
  {
   "cell_type": "code",
   "execution_count": 45,
   "metadata": {},
   "outputs": [],
   "source": [
    "adjusted_grouped_system = grouped_system[['Platform','Global_Sales']]"
   ]
  },
  {
   "cell_type": "code",
   "execution_count": 46,
   "metadata": {},
   "outputs": [],
   "source": [
    "adjusted_grouped_system_average = adjusted_grouped_system.mean()"
   ]
  },
  {
   "cell_type": "code",
   "execution_count": 47,
   "metadata": {},
   "outputs": [
    {
     "data": {
      "text/html": [
       "<div>\n",
       "<style scoped>\n",
       "    .dataframe tbody tr th:only-of-type {\n",
       "        vertical-align: middle;\n",
       "    }\n",
       "\n",
       "    .dataframe tbody tr th {\n",
       "        vertical-align: top;\n",
       "    }\n",
       "\n",
       "    .dataframe thead th {\n",
       "        text-align: right;\n",
       "    }\n",
       "</style>\n",
       "<table border=\"1\" class=\"dataframe\">\n",
       "  <thead>\n",
       "    <tr style=\"text-align: right;\">\n",
       "      <th></th>\n",
       "      <th>Global_Sales</th>\n",
       "    </tr>\n",
       "    <tr>\n",
       "      <th>Platform</th>\n",
       "      <th></th>\n",
       "    </tr>\n",
       "  </thead>\n",
       "  <tbody>\n",
       "    <tr>\n",
       "      <th>GB</th>\n",
       "      <td>2.606633</td>\n",
       "    </tr>\n",
       "    <tr>\n",
       "      <th>NES</th>\n",
       "      <td>2.561939</td>\n",
       "    </tr>\n",
       "    <tr>\n",
       "      <th>GEN</th>\n",
       "      <td>1.050370</td>\n",
       "    </tr>\n",
       "    <tr>\n",
       "      <th>SNES</th>\n",
       "      <td>0.837029</td>\n",
       "    </tr>\n",
       "    <tr>\n",
       "      <th>PS4</th>\n",
       "      <td>0.827679</td>\n",
       "    </tr>\n",
       "    <tr>\n",
       "      <th>X360</th>\n",
       "      <td>0.774672</td>\n",
       "    </tr>\n",
       "    <tr>\n",
       "      <th>2600</th>\n",
       "      <td>0.729925</td>\n",
       "    </tr>\n",
       "    <tr>\n",
       "      <th>PS3</th>\n",
       "      <td>0.720722</td>\n",
       "    </tr>\n",
       "    <tr>\n",
       "      <th>Wii</th>\n",
       "      <td>0.699404</td>\n",
       "    </tr>\n",
       "    <tr>\n",
       "      <th>N64</th>\n",
       "      <td>0.686144</td>\n",
       "    </tr>\n",
       "  </tbody>\n",
       "</table>\n",
       "</div>"
      ],
      "text/plain": [
       "          Global_Sales\n",
       "Platform              \n",
       "GB            2.606633\n",
       "NES           2.561939\n",
       "GEN           1.050370\n",
       "SNES          0.837029\n",
       "PS4           0.827679\n",
       "X360          0.774672\n",
       "2600          0.729925\n",
       "PS3           0.720722\n",
       "Wii           0.699404\n",
       "N64           0.686144"
      ]
     },
     "execution_count": 47,
     "metadata": {},
     "output_type": "execute_result"
    }
   ],
   "source": [
    "adjusted_grouped_system_average.nlargest(10, ['Global_Sales'])"
   ]
  },
  {
   "cell_type": "markdown",
   "metadata": {},
   "source": [
    "    Step 3: Create a variable that possesses the top 10 gaming platforms and display the results in a chart"
   ]
  },
  {
   "cell_type": "code",
   "execution_count": 48,
   "metadata": {},
   "outputs": [],
   "source": [
    "chartinfo = adjusted_grouped_system_average.nlargest(10, ['Global_Sales'])"
   ]
  },
  {
   "cell_type": "markdown",
   "metadata": {},
   "source": [
    "This graph shows the highest ranking gaming platform based on average global sales"
   ]
  },
  {
   "cell_type": "code",
   "execution_count": 49,
   "metadata": {},
   "outputs": [
    {
     "data": {
      "text/plain": [
       "<AxesSubplot:title={'center':'Top Game Genres by Global Sales'}, xlabel='Platform'>"
      ]
     },
     "execution_count": 49,
     "metadata": {},
     "output_type": "execute_result"
    },
    {
     "data": {
      "image/png": "[encoded data removed]",
      "text/plain": [
       "<Figure size 432x288 with 1 Axes>"
      ]
     },
     "metadata": {
      "needs_background": "light"
     },
     "output_type": "display_data"
    }
   ],
   "source": [
    "chartinfo.plot(kind='bar',legend=None,title='Top Game Genres by Global Sales')"
   ]
  },
  {
   "cell_type": "markdown",
   "metadata": {},
   "source": [
    "Companies will find this data useful because they can determine what gaming systems performed the best in terms of sales\n",
    "by looking at the global sales associated with the games for each system. Companies can also further break down this data\n",
    "to determine which gaming systems/consoles are doing well on certain years. Since the older gaming systems are not really\n",
    "being produced much anymore, it is important for the company to explore this data further, so they can see which gaming system\n",
    "they should invest more of their funds into"
   ]
  },
  {
   "cell_type": "code",
   "execution_count": null,
   "metadata": {},
   "outputs": [],
   "source": []
  },
  {
   "cell_type": "markdown",
   "metadata": {},
   "source": [
    "Top Games for each Gaming System based on Global Sales"
   ]
  },
  {
   "cell_type": "markdown",
   "metadata": {},
   "source": [
    "    Step 1: Assign each system a value \n",
    "    *only going to use dataset 1 for any comparisons between sales and only global sales unless otherwise specified\n",
    "\n",
    "Issue Experienced: Some variables had too much data which caused an error, to bypass the error\n",
    "    some variables I had to specify which columns I wanted assigned to the variable.\n",
    "    Database for variables that experienced error is called error_database"
   ]
  },
  {
   "cell_type": "code",
   "execution_count": 50,
   "metadata": {},
   "outputs": [],
   "source": [
    "error_database = df_updated[['Name','Platform','Global_Sales']]"
   ]
  },
  {
   "cell_type": "code",
   "execution_count": 51,
   "metadata": {},
   "outputs": [],
   "source": [
    "Atari2600 = df_updated[df_updated['Platform']=='2600'].groupby('Global_Sales').max()"
   ]
  },
  {
   "cell_type": "code",
   "execution_count": 52,
   "metadata": {},
   "outputs": [],
   "source": [
    "Panasonic3DO = df_updated[df_updated['Platform']=='3DO'].groupby('Global_Sales').max()"
   ]
  },
  {
   "cell_type": "code",
   "execution_count": 53,
   "metadata": {},
   "outputs": [],
   "source": [
    "Nintendo3DS = error_database[error_database['Platform']=='3DS'].groupby('Global_Sales').max()"
   ]
  },
  {
   "cell_type": "code",
   "execution_count": 54,
   "metadata": {},
   "outputs": [],
   "source": [
    "DreamCast = df_updated[df_updated['Platform']=='DC'].groupby('Global_Sales').max()"
   ]
  },
  {
   "cell_type": "code",
   "execution_count": 55,
   "metadata": {},
   "outputs": [],
   "source": [
    "NintendoDS = error_database[error_database['Platform']=='DS'].groupby('Global_Sales').max()"
   ]
  },
  {
   "cell_type": "code",
   "execution_count": 56,
   "metadata": {},
   "outputs": [],
   "source": [
    "GameBoy = df_updated[df_updated['Platform']=='GB'].groupby('Global_Sales').max()"
   ]
  },
  {
   "cell_type": "code",
   "execution_count": 57,
   "metadata": {},
   "outputs": [],
   "source": [
    "GameBoyAdvanced= error_database[error_database['Platform']=='GBA'].groupby('Global_Sales').max()"
   ]
  },
  {
   "cell_type": "code",
   "execution_count": 58,
   "metadata": {},
   "outputs": [],
   "source": [
    "GameBoyColor = df_updated[df_updated['Platform']=='GC'].groupby('Global_Sales').max()"
   ]
  },
  {
   "cell_type": "code",
   "execution_count": 59,
   "metadata": {},
   "outputs": [],
   "source": [
    "GameGear = df_updated[df_updated['Platform']=='GG'].groupby('Global_Sales').max()"
   ]
  },
  {
   "cell_type": "code",
   "execution_count": 60,
   "metadata": {},
   "outputs": [],
   "source": [
    "Nintendo64 = df_updated[df_updated['Platform']=='N64'].groupby('Global_Sales').max()"
   ]
  },
  {
   "cell_type": "code",
   "execution_count": 61,
   "metadata": {},
   "outputs": [],
   "source": [
    "NES = df_updated[df_updated['Platform']=='NES'].groupby('Global_Sales').max()"
   ]
  },
  {
   "cell_type": "code",
   "execution_count": 62,
   "metadata": {},
   "outputs": [],
   "source": [
    "NG = df_updated[df_updated['Platform']=='NG'].groupby('Global_Sales').max()"
   ]
  },
  {
   "cell_type": "code",
   "execution_count": 63,
   "metadata": {},
   "outputs": [],
   "source": [
    "PC = error_database[error_database['Platform']=='PC'].groupby('Global_Sales').max()"
   ]
  },
  {
   "cell_type": "code",
   "execution_count": 64,
   "metadata": {},
   "outputs": [],
   "source": [
    "PCFX = df_updated[df_updated['Platform']=='PCFX'].groupby('Global_Sales').max()"
   ]
  },
  {
   "cell_type": "code",
   "execution_count": 65,
   "metadata": {},
   "outputs": [],
   "source": [
    "PS = error_database[error_database['Platform']=='PS'].groupby('Global_Sales').max()"
   ]
  },
  {
   "cell_type": "code",
   "execution_count": 66,
   "metadata": {},
   "outputs": [],
   "source": [
    "PS2 = error_database[error_database['Platform']=='PS2'].groupby('Global_Sales').max()"
   ]
  },
  {
   "cell_type": "code",
   "execution_count": 67,
   "metadata": {},
   "outputs": [],
   "source": [
    "PS3 = error_database[error_database['Platform']=='PS3'].groupby('Global_Sales').max()"
   ]
  },
  {
   "cell_type": "code",
   "execution_count": 68,
   "metadata": {},
   "outputs": [],
   "source": [
    "PS4 = df_updated[df_updated['Platform']=='PS4'].groupby('Global_Sales').max()"
   ]
  },
  {
   "cell_type": "code",
   "execution_count": 69,
   "metadata": {},
   "outputs": [],
   "source": [
    "PSP = error_database[error_database['Platform']=='PSP'].groupby('Global_Sales').max()"
   ]
  },
  {
   "cell_type": "code",
   "execution_count": 70,
   "metadata": {},
   "outputs": [],
   "source": [
    "PSV = error_database[error_database['Platform']=='PSV'].groupby('Global_Sales').max()"
   ]
  },
  {
   "cell_type": "code",
   "execution_count": 71,
   "metadata": {},
   "outputs": [],
   "source": [
    "SAT = df_updated[df_updated['Platform']=='SAT'].groupby('Global_Sales').max()"
   ]
  },
  {
   "cell_type": "code",
   "execution_count": 72,
   "metadata": {},
   "outputs": [],
   "source": [
    "SCD = df_updated[df_updated['Platform']=='SCD'].groupby('Global_Sales').max()"
   ]
  },
  {
   "cell_type": "code",
   "execution_count": 73,
   "metadata": {},
   "outputs": [],
   "source": [
    "SNES = df_updated[df_updated['Platform']=='SNES'].groupby('Global_Sales').max()"
   ]
  },
  {
   "cell_type": "code",
   "execution_count": 74,
   "metadata": {},
   "outputs": [],
   "source": [
    "TG16 = df_updated[df_updated['Platform']=='TG16'].groupby('Global_Sales').max()"
   ]
  },
  {
   "cell_type": "code",
   "execution_count": 75,
   "metadata": {},
   "outputs": [],
   "source": [
    "WS = df_updated[df_updated['Platform']=='WS'].groupby('Global_Sales').max()"
   ]
  },
  {
   "cell_type": "code",
   "execution_count": 76,
   "metadata": {},
   "outputs": [],
   "source": [
    "Wii = error_database[error_database['Platform']=='Wii'].groupby('Global_Sales').max()"
   ]
  },
  {
   "cell_type": "code",
   "execution_count": 77,
   "metadata": {},
   "outputs": [],
   "source": [
    "WiiU = df_updated[df_updated['Platform']=='WiiU'].groupby('Global_Sales').max()"
   ]
  },
  {
   "cell_type": "code",
   "execution_count": 78,
   "metadata": {},
   "outputs": [],
   "source": [
    "X360 = error_database[error_database['Platform']=='X360'].groupby('Global_Sales').max()"
   ]
  },
  {
   "cell_type": "code",
   "execution_count": 79,
   "metadata": {},
   "outputs": [],
   "source": [
    "XB = df_updated[df_updated['Platform']=='XB'].groupby('Global_Sales').max()"
   ]
  },
  {
   "cell_type": "code",
   "execution_count": 80,
   "metadata": {},
   "outputs": [],
   "source": [
    "XOne = df_updated[df_updated['Platform']=='XOne'].groupby('Global_Sales').max()"
   ]
  },
  {
   "cell_type": "markdown",
   "metadata": {},
   "source": [
    "    Step 2: Print all Variables to Find Top Games By System Type"
   ]
  },
  {
   "cell_type": "markdown",
   "metadata": {},
   "source": [
    "All of this data is extremely crucial for more indepth analysis. With being able to analyze each game based on their\n",
    "platform/gaming system, companies will be able to see based on each system: which game genres are more received\n",
    "for each gaming system based on critics and users, "
   ]
  },
  {
   "cell_type": "code",
   "execution_count": 81,
   "metadata": {},
   "outputs": [
    {
     "name": "stdout",
     "output_type": "stream",
     "text": [
      "               Rank                   Name Platform    Year     Genre  \\\n",
      "Global_Sales                                                            \n",
      "0.07          11751         Super Baseball     2600  1987.0    Sports   \n",
      "0.08          11718         Super Football     2600  1987.0    Sports   \n",
      "0.13           9497  RealSports Volleyball     2600  1981.0    Sports   \n",
      "0.14           9108                  Krull     2600  1982.0    Action   \n",
      "0.15           8762        Pressure Cooker     2600  1989.0    Sports   \n",
      "...             ...                    ...      ...     ...       ...   \n",
      "2.53            608         Space Invaders     2600     NaN   Shooter   \n",
      "2.76            545        Missile Command     2600  1980.0   Shooter   \n",
      "4.31            259              Asteroids     2600  1980.0   Shooter   \n",
      "4.50            240               Pitfall!     2600  1981.0  Platform   \n",
      "7.81             90                Pac-Man     2600  1982.0    Puzzle   \n",
      "\n",
      "               Publisher  NA_Sales  EU_Sales  JP_Sales  Other_Sales  \n",
      "Global_Sales                                                         \n",
      "0.07               Atari      0.07      0.00       0.0         0.00  \n",
      "0.08               Atari      0.07      0.00       0.0         0.00  \n",
      "0.13               Atari      0.12      0.01       0.0         0.00  \n",
      "0.14               Atari      0.13      0.01       0.0         0.00  \n",
      "0.15               Atari      0.14      0.01       0.0         0.00  \n",
      "...                  ...       ...       ...       ...          ...  \n",
      "2.53               Atari      2.36      0.14       0.0         0.03  \n",
      "2.76               Atari      2.56      0.17       0.0         0.03  \n",
      "4.31               Atari      4.00      0.26       0.0         0.05  \n",
      "4.50          Activision      4.21      0.24       0.0         0.05  \n",
      "7.81               Atari      7.28      0.45       0.0         0.08  \n",
      "\n",
      "[77 rows x 10 columns]\n"
     ]
    }
   ],
   "source": [
    "print(Atari2600)"
   ]
  },
  {
   "cell_type": "code",
   "execution_count": 82,
   "metadata": {},
   "outputs": [
    {
     "name": "stdout",
     "output_type": "stream",
     "text": [
      "               Rank                                  Name Platform    Year  \\\n",
      "Global_Sales                                                                 \n",
      "0.02          15482  Sotsugyou II: Neo Generation Special      3DO  1995.0   \n",
      "0.06          12637                           Policenauts      3DO  1995.0   \n",
      "\n",
      "                   Genre                     Publisher  NA_Sales  EU_Sales  \\\n",
      "Global_Sales                                                                 \n",
      "0.02          Simulation                   Micro Cabin       0.0       0.0   \n",
      "0.06           Adventure  Konami Digital Entertainment       0.0       0.0   \n",
      "\n",
      "              JP_Sales  Other_Sales  \n",
      "Global_Sales                         \n",
      "0.02              0.02          0.0  \n",
      "0.06              0.06          0.0  \n"
     ]
    }
   ],
   "source": [
    "print(Panasonic3DO)"
   ]
  },
  {
   "cell_type": "code",
   "execution_count": 83,
   "metadata": {},
   "outputs": [
    {
     "name": "stdout",
     "output_type": "stream",
     "text": [
      "                                                       Name Platform\n",
      "Global_Sales                                                        \n",
      "0.01                                Winx Club: Saving Alfea      3DS\n",
      "0.02                                    UnchainBlades EXXiV      3DS\n",
      "0.03                      Zero Escape: Virtue's Last Reward      3DS\n",
      "0.04                                        Yowamushi Pedal      3DS\n",
      "0.05          Zyuden Sentai Kyoryuger: Game de Gaburincho!!      3DS\n",
      "...                                                     ...      ...\n",
      "9.82                                New Super Mario Bros. 2      3DS\n",
      "10.79                                   Super Mario 3D Land      3DS\n",
      "11.33             Pokemon Omega Ruby/Pokemon Alpha Sapphire      3DS\n",
      "12.21                                          Mario Kart 7      3DS\n",
      "14.35                                   Pokemon X/Pokemon Y      3DS\n",
      "\n",
      "[119 rows x 2 columns]\n"
     ]
    }
   ],
   "source": [
    "print(Nintendo3DS)"
   ]
  },
  {
   "cell_type": "code",
   "execution_count": 84,
   "metadata": {},
   "outputs": [
    {
     "name": "stdout",
     "output_type": "stream",
     "text": [
      "               Rank                                               Name  \\\n",
      "Global_Sales                                                             \n",
      "0.02          15902                               Triggerheart Exelica   \n",
      "0.04          14004                         Pia Carrot e Youkoso!! 2.5   \n",
      "0.05          13244                             The Typing of the Dead   \n",
      "0.06          12816                                   PenPen TriIceLon   \n",
      "0.07          12063                    The King of Fighters: Evolution   \n",
      "0.08          11517                             Sentimental Graffiti 2   \n",
      "0.09          11234                                   Skies of Arcadia   \n",
      "0.10          10680             The King of Fighters: Dream Match 1999   \n",
      "0.11          10371                                        Sakura Wars   \n",
      "0.12           9844                                  Sonic Adventure 2   \n",
      "0.13           9557                                            Sega GT   \n",
      "0.14           9166                                        Power Stone   \n",
      "0.15           8918                                         Shenmue II   \n",
      "0.17           8320                                 Tokyo Xtreme Racer   \n",
      "0.18           8113  Soccer Tsuku Tokudai Gou: J-League Pro Soccer ...   \n",
      "0.19           7996                        Phantasy Star Online Ver. 2   \n",
      "0.20           7656                               Phantasy Star Online   \n",
      "0.22           7252                                     Capcom vs. SNK   \n",
      "0.23           6986                        Pro Yakyuu Team o Tsukurou!   \n",
      "0.26           6452                            The House of the Dead 2   \n",
      "0.29           6060                      Sakura Wars 4: Koi Seyo,Otome   \n",
      "0.32           5699                                   Virtua Striker 2   \n",
      "0.33           5537                Sakura Wars 3: Paris wa Moeteiru ka   \n",
      "0.34           5359                                        SoulCalibur   \n",
      "0.36           5261               J-League Pro Soccer Club o Tsukurou!   \n",
      "0.37           5154                                 Virtua Fighter 3tb   \n",
      "0.41           4688                          Sega Rally Championship 2   \n",
      "0.52           3825                                             Seaman   \n",
      "1.09           1879                                            NFL 2K1   \n",
      "1.14           1795                     Resident Evil - Code: Veronica   \n",
      "1.18           1711                                            Shenmue   \n",
      "1.20           1679                                             NFL 2K   \n",
      "1.81            961                                         Crazy Taxi   \n",
      "2.42            638                                    Sonic Adventure   \n",
      "\n",
      "             Platform    Year         Genre           Publisher  NA_Sales  \\\n",
      "Global_Sales                                                                \n",
      "0.02               DC  2007.0       Shooter             Warashi      0.00   \n",
      "0.04               DC  2008.0      Fighting                Sega      0.00   \n",
      "0.05               DC  2001.0        Sports                Sega      0.00   \n",
      "0.06               DC  2000.0        Sports    NEC Interchannel      0.00   \n",
      "0.07               DC  2001.0        Racing                Sega      0.00   \n",
      "0.08               DC  2000.0        Sports                Sega      0.00   \n",
      "0.09               DC  2000.0        Sports                Sega      0.00   \n",
      "0.10               DC  2000.0      Fighting                Sega      0.00   \n",
      "0.11               DC  2000.0     Adventure                Sega      0.00   \n",
      "0.12               DC  2001.0      Platform                Sega      0.00   \n",
      "0.13               DC  2000.0        Racing                Sega      0.00   \n",
      "0.14               DC  2000.0      Fighting  Virgin Interactive      0.00   \n",
      "0.15               DC  2001.0     Adventure                Sega      0.00   \n",
      "0.17               DC  1999.0        Racing               Genki      0.00   \n",
      "0.18               DC  2000.0        Sports                Sega      0.00   \n",
      "0.19               DC  2001.0  Role-Playing                Sega      0.00   \n",
      "0.20               DC  2000.0  Role-Playing             Ubisoft      0.00   \n",
      "0.22               DC  2000.0      Fighting  Virgin Interactive      0.00   \n",
      "0.23               DC  1999.0        Sports                Sega      0.00   \n",
      "0.26               DC  1998.0       Shooter                Sega      0.00   \n",
      "0.29               DC  2002.0     Adventure                Sega      0.00   \n",
      "0.32               DC  1999.0        Sports                Sega      0.00   \n",
      "0.33               DC  2001.0     Adventure                Sega      0.00   \n",
      "0.34               DC  1999.0      Fighting  Namco Bandai Games      0.00   \n",
      "0.36               DC  1999.0        Sports                Sega      0.00   \n",
      "0.37               DC  1998.0      Fighting                Sega      0.00   \n",
      "0.41               DC  1999.0        Racing                Sega      0.00   \n",
      "0.52               DC  1999.0    Simulation                Sega      0.00   \n",
      "1.09               DC  2000.0        Sports                Sega      1.02   \n",
      "1.14               DC  2000.0        Action   Eidos Interactive      0.41   \n",
      "1.18               DC  1999.0     Adventure                Sega      0.52   \n",
      "1.20               DC  1999.0        Sports                Sega      1.12   \n",
      "1.81               DC  2000.0        Racing                Sega      1.10   \n",
      "2.42               DC  1998.0      Platform                Sega      1.26   \n",
      "\n",
      "              EU_Sales  JP_Sales  Other_Sales  \n",
      "Global_Sales                                   \n",
      "0.02              0.00      0.02         0.00  \n",
      "0.04              0.00      0.04         0.00  \n",
      "0.05              0.00      0.05         0.00  \n",
      "0.06              0.00      0.06         0.00  \n",
      "0.07              0.00      0.07         0.00  \n",
      "0.08              0.00      0.08         0.00  \n",
      "0.09              0.00      0.09         0.00  \n",
      "0.10              0.00      0.10         0.00  \n",
      "0.11              0.00      0.11         0.00  \n",
      "0.12              0.00      0.12         0.00  \n",
      "0.13              0.00      0.13         0.00  \n",
      "0.14              0.00      0.14         0.00  \n",
      "0.15              0.00      0.15         0.00  \n",
      "0.17              0.00      0.17         0.00  \n",
      "0.18              0.00      0.18         0.00  \n",
      "0.19              0.00      0.19         0.00  \n",
      "0.20              0.00      0.20         0.00  \n",
      "0.22              0.00      0.22         0.00  \n",
      "0.23              0.00      0.23         0.00  \n",
      "0.26              0.00      0.26         0.00  \n",
      "0.29              0.00      0.29         0.00  \n",
      "0.32              0.00      0.32         0.00  \n",
      "0.33              0.00      0.33         0.00  \n",
      "0.34              0.00      0.34         0.00  \n",
      "0.36              0.00      0.36         0.00  \n",
      "0.37              0.00      0.37         0.00  \n",
      "0.41              0.00      0.41         0.00  \n",
      "0.52              0.00      0.52         0.00  \n",
      "1.09              0.05      0.00         0.02  \n",
      "1.14              0.23      0.47         0.03  \n",
      "1.18              0.24      0.38         0.04  \n",
      "1.20              0.05      0.00         0.02  \n",
      "1.81              0.51      0.12         0.08  \n",
      "2.42              0.61      0.46         0.08  \n"
     ]
    }
   ],
   "source": [
    "print(DreamCast)"
   ]
  },
  {
   "cell_type": "code",
   "execution_count": 85,
   "metadata": {},
   "outputs": [
    {
     "name": "stdout",
     "output_type": "stream",
     "text": [
      "                                                      Name Platform\n",
      "Global_Sales                                                       \n",
      "0.01                            thinkSMART: Chess for Kids       DS\n",
      "0.02                                            Zoids Dash       DS\n",
      "0.03                           Zoo Vet: Endangered Animals       DS\n",
      "0.04                                          Zoo Hospital       DS\n",
      "0.05                                Zoo Quest: Puzzle Fun!       DS\n",
      "...                                                    ...      ...\n",
      "18.36                        Pokemon Diamond/Pokemon Pearl       DS\n",
      "20.22         Brain Age: Train Your Brain in Minutes a Day       DS\n",
      "23.42                                        Mario Kart DS       DS\n",
      "24.76                                           Nintendogs       DS\n",
      "30.01                                New Super Mario Bros.       DS\n",
      "\n",
      "[207 rows x 2 columns]\n"
     ]
    }
   ],
   "source": [
    "print(NintendoDS)"
   ]
  },
  {
   "cell_type": "code",
   "execution_count": 86,
   "metadata": {},
   "outputs": [
    {
     "name": "stdout",
     "output_type": "stream",
     "text": [
      "               Rank                                               Name  \\\n",
      "Global_Sales                                                             \n",
      "0.06          12672  Teenage Mutant Ninja Turtles II: Back from the...   \n",
      "0.07          12103                                       Power Pro GB   \n",
      "0.12           9867               Medarot 4: Kabuto / Kuwagata Version   \n",
      "0.14           9109                       Yu-Gi-Oh! Monster Capture GB   \n",
      "0.17           8278                               Power Pro Kun Pocket   \n",
      "...             ...                                                ...   \n",
      "14.64            31            Pokémon Yellow: Special Pikachu Edition   \n",
      "18.14            22                                   Super Mario Land   \n",
      "23.10            13                        Pokemon Gold/Pokemon Silver   \n",
      "30.26             6                                             Tetris   \n",
      "31.37             5                           Pokemon Red/Pokemon Blue   \n",
      "\n",
      "             Platform    Year         Genre                     Publisher  \\\n",
      "Global_Sales                                                                \n",
      "0.06               GB  1991.0        Action  Konami Digital Entertainment   \n",
      "0.07               GB  2001.0        Sports  Konami Digital Entertainment   \n",
      "0.12               GB  2001.0    Simulation                       Ubisoft   \n",
      "0.14               GB  2001.0  Role-Playing                 Media Factory   \n",
      "0.17               GB  1999.0        Sports  Konami Digital Entertainment   \n",
      "...               ...     ...           ...                           ...   \n",
      "14.64              GB  1998.0  Role-Playing                      Nintendo   \n",
      "18.14              GB  1989.0      Platform                      Nintendo   \n",
      "23.10              GB  1999.0  Role-Playing                      Nintendo   \n",
      "30.26              GB  1989.0        Puzzle                      Nintendo   \n",
      "31.37              GB  1996.0  Role-Playing                      Nintendo   \n",
      "\n",
      "              NA_Sales  EU_Sales  JP_Sales  Other_Sales  \n",
      "Global_Sales                                             \n",
      "0.06              0.00      0.00      0.06         0.00  \n",
      "0.07              0.00      0.00      0.07         0.00  \n",
      "0.12              0.00      0.00      0.12         0.00  \n",
      "0.14              0.00      0.00      0.14         0.00  \n",
      "0.17              0.00      0.00      0.17         0.00  \n",
      "...                ...       ...       ...          ...  \n",
      "14.64             5.89      5.04      3.12         0.59  \n",
      "18.14            10.83      2.71      4.18         0.42  \n",
      "23.10             9.00      6.18      7.20         0.71  \n",
      "30.26            23.20      2.26      4.22         0.58  \n",
      "31.37            11.27      8.89     10.22         1.00  \n",
      "\n",
      "[79 rows x 10 columns]\n"
     ]
    }
   ],
   "source": [
    "print(GameBoy)"
   ]
  },
  {
   "cell_type": "code",
   "execution_count": 87,
   "metadata": {},
   "outputs": [
    {
     "name": "stdout",
     "output_type": "stream",
     "text": [
      "                                                       Name Platform\n",
      "Global_Sales                                                        \n",
      "0.01                                       World Poker Tour      GBA\n",
      "0.02          Wakeboarding Unleashed Featuring Shaun Murray      GBA\n",
      "0.03                             Zatch Bell! Electric Arena      GBA\n",
      "0.04                                   Trollz: Hair Affair!      GBA\n",
      "0.05                                                ZooCube      GBA\n",
      "...                                                     ...      ...\n",
      "5.47                              Mario Kart: Super Circuit      GBA\n",
      "5.49                                    Super Mario Advance      GBA\n",
      "6.41                                Pokémon Emerald Version      GBA\n",
      "10.49                     Pokemon FireRed/Pokemon LeafGreen      GBA\n",
      "15.85                         Pokemon Ruby/Pokemon Sapphire      GBA\n",
      "\n",
      "[143 rows x 2 columns]\n"
     ]
    }
   ],
   "source": [
    "print(GameBoyAdvanced)"
   ]
  },
  {
   "cell_type": "code",
   "execution_count": 88,
   "metadata": {},
   "outputs": [
    {
     "name": "stdout",
     "output_type": "stream",
     "text": [
      "               Rank                                 Name Platform    Year  \\\n",
      "Global_Sales                                                                \n",
      "0.01          16597                         Virtua Quest       GC  2007.0   \n",
      "0.02          15980                              ZooCube       GC  2005.0   \n",
      "0.03          14801                 The Sum of All Fears       GC  2005.0   \n",
      "0.04          13986              Zatch Bell! Mamodo Fury       GC  2007.0   \n",
      "0.05          13451                World Series of Poker       GC  2005.0   \n",
      "...             ...                                  ...      ...     ...   \n",
      "3.60            357                      Luigi's Mansion       GC  2001.0   \n",
      "4.60            233  The Legend of Zelda: The Wind Waker       GC  2002.0   \n",
      "6.31            136                 Super Mario Sunshine       GC  2002.0   \n",
      "6.95            111            Mario Kart: Double Dash!!       GC  2003.0   \n",
      "7.07            108              Super Smash Bros. Melee       GC  2001.0   \n",
      "\n",
      "                 Genre               Publisher  NA_Sales  EU_Sales  JP_Sales  \\\n",
      "Global_Sales                                                                   \n",
      "0.01            Sports                 Unknown      0.01      0.00      0.00   \n",
      "0.02          Strategy  Zoo Digital Publishing      0.02      0.00      0.02   \n",
      "0.03            Sports           Vivendi Games      0.03      0.01      0.01   \n",
      "0.04            Sports                 Unknown      0.03      0.01      0.04   \n",
      "0.05            Sports           Vivendi Games      0.04      0.01      0.05   \n",
      "...                ...                     ...       ...       ...       ...   \n",
      "3.60            Action                Nintendo      2.38      0.67      0.46   \n",
      "4.60            Action                Nintendo      2.60      0.99      0.89   \n",
      "6.31          Platform                Nintendo      4.01      1.26      0.87   \n",
      "6.95            Racing                Nintendo      4.12      1.77      0.87   \n",
      "7.07          Fighting                Nintendo      4.41      1.04      1.39   \n",
      "\n",
      "              Other_Sales  \n",
      "Global_Sales               \n",
      "0.01                 0.00  \n",
      "0.02                 0.00  \n",
      "0.03                 0.00  \n",
      "0.04                 0.00  \n",
      "0.05                 0.00  \n",
      "...                   ...  \n",
      "3.60                 0.10  \n",
      "4.60                 0.13  \n",
      "6.31                 0.17  \n",
      "6.95                 0.19  \n",
      "7.07                 0.22  \n",
      "\n",
      "[124 rows x 10 columns]\n"
     ]
    }
   ],
   "source": [
    "print(GameBoyColor)"
   ]
  },
  {
   "cell_type": "code",
   "execution_count": 89,
   "metadata": {},
   "outputs": [
    {
     "name": "stdout",
     "output_type": "stream",
     "text": [
      "               Rank                          Name Platform    Year     Genre  \\\n",
      "Global_Sales                                                                   \n",
      "0.04          13527  Sonic the Hedgehog 2 (8-bit)       GG  1992.0  Platform   \n",
      "\n",
      "             Publisher  NA_Sales  EU_Sales  JP_Sales  Other_Sales  \n",
      "Global_Sales                                                       \n",
      "0.04              Sega       0.0       0.0      0.04          0.0  \n"
     ]
    }
   ],
   "source": [
    "print(GameGear)"
   ]
  },
  {
   "cell_type": "code",
   "execution_count": 90,
   "metadata": {},
   "outputs": [
    {
     "name": "stdout",
     "output_type": "stream",
     "text": [
      "               Rank                                  Name Platform    Year  \\\n",
      "Global_Sales                                                                 \n",
      "0.01          16586                     PGA European Tour      N64  2000.0   \n",
      "0.02          15376                         Super Bowling      N64  2000.0   \n",
      "0.03          14497          Starshot: Space Circus Fever      N64  1999.0   \n",
      "0.04          13746                      Worms Armageddon      N64  2000.0   \n",
      "0.05          13436                Turok: Dinosaur Hunter      N64  2000.0   \n",
      "...             ...                                   ...      ...     ...   \n",
      "5.55            158                     Super Smash Bros.      N64  1999.0   \n",
      "7.60             95  The Legend of Zelda: Ocarina of Time      N64  1998.0   \n",
      "8.09             85                         GoldenEye 007      N64  1997.0   \n",
      "9.87             64                         Mario Kart 64      N64  1996.0   \n",
      "11.89            47                        Super Mario 64      N64  1996.0   \n",
      "\n",
      "                 Genre           Publisher  NA_Sales  EU_Sales  JP_Sales  \\\n",
      "Global_Sales                                                               \n",
      "0.01            Sports  Virgin Interactive      0.01      0.00      0.00   \n",
      "0.02            Sports           Mindscape      0.02      0.00      0.00   \n",
      "0.03            Sports               Kemco      0.02      0.01      0.00   \n",
      "0.04          Strategy             Ubisoft      0.04      0.01      0.04   \n",
      "0.05            Sports  Virgin Interactive      0.05      0.01      0.05   \n",
      "...                ...                 ...       ...       ...       ...   \n",
      "5.55          Fighting            Nintendo      2.95      0.60      1.97   \n",
      "7.60            Action            Nintendo      4.10      1.89      1.45   \n",
      "8.09           Shooter            Nintendo      5.80      2.01      0.13   \n",
      "9.87            Racing            Nintendo      5.55      1.94      2.23   \n",
      "11.89         Platform            Nintendo      6.91      2.85      1.91   \n",
      "\n",
      "              Other_Sales  \n",
      "Global_Sales               \n",
      "0.01                 0.00  \n",
      "0.02                 0.00  \n",
      "0.03                 0.00  \n",
      "0.04                 0.00  \n",
      "0.05                 0.00  \n",
      "...                   ...  \n",
      "5.55                 0.04  \n",
      "7.60                 0.16  \n",
      "8.09                 0.15  \n",
      "9.87                 0.15  \n",
      "11.89                0.23  \n",
      "\n",
      "[125 rows x 10 columns]\n"
     ]
    }
   ],
   "source": [
    "print(Nintendo64)"
   ]
  },
  {
   "cell_type": "code",
   "execution_count": 91,
   "metadata": {},
   "outputs": [
    {
     "name": "stdout",
     "output_type": "stream",
     "text": [
      "               Rank                                               Name  \\\n",
      "Global_Sales                                                             \n",
      "0.06          12638                                 Adventures of Lolo   \n",
      "0.07          11987  Teenage Mutant Ninja Turtles: Tournament Fighters   \n",
      "0.11          10311                               Final Fantasy I & II   \n",
      "0.28           6163                                        Famista '92   \n",
      "0.30           5864                                        Famista '91   \n",
      "...             ...                                                ...   \n",
      "6.51            128                                The Legend of Zelda   \n",
      "7.46             97                                Super Mario Bros. 2   \n",
      "17.28            23                                Super Mario Bros. 3   \n",
      "28.31            10                                          Duck Hunt   \n",
      "40.24             2                                  Super Mario Bros.   \n",
      "\n",
      "             Platform    Year         Genre                     Publisher  \\\n",
      "Global_Sales                                                                \n",
      "0.06              NES  1989.0        Puzzle                HAL Laboratory   \n",
      "0.07              NES  1992.0      Fighting  Konami Digital Entertainment   \n",
      "0.11              NES  1994.0  Role-Playing                        Square   \n",
      "0.28              NES  1991.0        Sports            Namco Bandai Games   \n",
      "0.30              NES  1990.0        Sports            Namco Bandai Games   \n",
      "...               ...     ...           ...                           ...   \n",
      "6.51              NES  1986.0        Action                      Nintendo   \n",
      "7.46              NES  1988.0      Platform                      Nintendo   \n",
      "17.28             NES  1988.0      Platform                      Nintendo   \n",
      "28.31             NES  1984.0       Shooter                      Nintendo   \n",
      "40.24             NES  1985.0      Platform                      Nintendo   \n",
      "\n",
      "              NA_Sales  EU_Sales  JP_Sales  Other_Sales  \n",
      "Global_Sales                                             \n",
      "0.06              0.06      0.00      0.00         0.00  \n",
      "0.07              0.04      0.01      0.02         0.00  \n",
      "0.11              0.00      0.00      0.11         0.00  \n",
      "0.28              0.00      0.00      0.28         0.00  \n",
      "0.30              0.00      0.00      0.30         0.00  \n",
      "...                ...       ...       ...          ...  \n",
      "6.51              3.74      0.93      1.69         0.14  \n",
      "7.46              5.39      1.18      0.70         0.19  \n",
      "17.28             9.54      3.44      3.84         0.46  \n",
      "28.31            26.93      0.63      0.28         0.47  \n",
      "40.24            29.08      3.58      6.81         0.77  \n",
      "\n",
      "[86 rows x 10 columns]\n"
     ]
    }
   ],
   "source": [
    "print(NES)"
   ]
  },
  {
   "cell_type": "code",
   "execution_count": 92,
   "metadata": {},
   "outputs": [
    {
     "name": "stdout",
     "output_type": "stream",
     "text": [
      "               Rank                                        Name Platform  \\\n",
      "Global_Sales                                                               \n",
      "0.02          15556                            Super Dodge Ball       NG   \n",
      "0.03          14432                    Far East of Eden Shinden       NG   \n",
      "0.04          13916  Art of Fighting 3: The Path of the Warrior       NG   \n",
      "0.06          12789                    The King of Fighters '96       NG   \n",
      "0.07          12086                             Samurai Shodown       NG   \n",
      "0.08          11507                         Samurai Shodown III       NG   \n",
      "0.12           9719                    The King of Fighters '94       NG   \n",
      "0.14           9198               The King of Fighters '94 (CD)       NG   \n",
      "0.20           7555                    The King of Fighters '95       NG   \n",
      "0.23           7047               The King of Fighters '95 (CD)       NG   \n",
      "0.25           6683                          Samurai Shodown II       NG   \n",
      "\n",
      "                Year     Genre                  Publisher  NA_Sales  EU_Sales  \\\n",
      "Global_Sales                                                                    \n",
      "0.02          1995.0    Sports  Technos Japan Corporation       0.0       0.0   \n",
      "0.03          1995.0  Fighting                Hudson Soft       0.0       0.0   \n",
      "0.04          1996.0  Fighting                        SNK       0.0       0.0   \n",
      "0.06          1996.0  Fighting                        SNK       0.0       0.0   \n",
      "0.07          1993.0  Fighting                        SNK       0.0       0.0   \n",
      "0.08          1995.0  Fighting                        SNK       0.0       0.0   \n",
      "0.12          1994.0  Fighting                        SNK       0.0       0.0   \n",
      "0.14          1993.0  Fighting                        SNK       0.0       0.0   \n",
      "0.20          1995.0  Fighting                        SNK       0.0       0.0   \n",
      "0.23          1994.0  Fighting                        SNK       0.0       0.0   \n",
      "0.25          1994.0  Fighting                        SNK       0.0       0.0   \n",
      "\n",
      "              JP_Sales  Other_Sales  \n",
      "Global_Sales                         \n",
      "0.02              0.02          0.0  \n",
      "0.03              0.03          0.0  \n",
      "0.04              0.04          0.0  \n",
      "0.06              0.06          0.0  \n",
      "0.07              0.07          0.0  \n",
      "0.08              0.08          0.0  \n",
      "0.12              0.12          0.0  \n",
      "0.14              0.14          0.0  \n",
      "0.20              0.20          0.0  \n",
      "0.23              0.23          0.0  \n",
      "0.25              0.25          0.0  \n"
     ]
    }
   ],
   "source": [
    "print(NG)"
   ]
  },
  {
   "cell_type": "code",
   "execution_count": 93,
   "metadata": {},
   "outputs": [
    {
     "name": "stdout",
     "output_type": "stream",
     "text": [
      "                                        Name Platform\n",
      "Global_Sales                                         \n",
      "0.01                                 Worms 2       PC\n",
      "0.02                     You Don't Know Jack       PC\n",
      "0.03                              Zoo Tycoon       PC\n",
      "0.04                  Worms: Ultimate Mayhem       PC\n",
      "0.05                          Worms Reloaded       PC\n",
      "...                                      ...      ...\n",
      "4.83          StarCraft II: Wings of Liberty       PC\n",
      "5.12              Microsoft Flight Simulator       PC\n",
      "5.20                              Diablo III       PC\n",
      "6.28                       World of Warcraft       PC\n",
      "8.11                              The Sims 3       PC\n",
      "\n",
      "[139 rows x 2 columns]\n"
     ]
    }
   ],
   "source": [
    "print(PC)"
   ]
  },
  {
   "cell_type": "code",
   "execution_count": 94,
   "metadata": {},
   "outputs": [
    {
     "name": "stdout",
     "output_type": "stream",
     "text": [
      "               Rank                                Name Platform    Year  \\\n",
      "Global_Sales                                                               \n",
      "0.03          14559  Blue Breaker: Ken Yorimo Hohoemi o     PCFX  1996.0   \n",
      "\n",
      "                     Genre Publisher  NA_Sales  EU_Sales  JP_Sales  \\\n",
      "Global_Sales                                                         \n",
      "0.03          Role-Playing       NEC       0.0       0.0      0.03   \n",
      "\n",
      "              Other_Sales  \n",
      "Global_Sales               \n",
      "0.03                  0.0  \n"
     ]
    }
   ],
   "source": [
    "print(PCFX)"
   ]
  },
  {
   "cell_type": "code",
   "execution_count": 95,
   "metadata": {},
   "outputs": [
    {
     "name": "stdout",
     "output_type": "stream",
     "text": [
      "                                                Name Platform\n",
      "Global_Sales                                                 \n",
      "0.01                                   Victory Spike       PS\n",
      "0.02                                   Tokyo Mew Mew       PS\n",
      "0.03                     Zoboomafoo: Leapin' Lemurs!       PS\n",
      "0.04                            Warhammer: Dark Omen       PS\n",
      "0.05                                            Zoop       PS\n",
      "...                                              ...      ...\n",
      "7.58          Crash Bandicoot 2: Cortex Strikes Back       PS\n",
      "7.86                              Final Fantasy VIII       PS\n",
      "9.49                                  Gran Turismo 2       PS\n",
      "9.72                               Final Fantasy VII       PS\n",
      "10.95                                   Gran Turismo       PS\n",
      "\n",
      "[228 rows x 2 columns]\n"
     ]
    }
   ],
   "source": [
    "print(PS)"
   ]
  },
  {
   "cell_type": "code",
   "execution_count": 96,
   "metadata": {
    "scrolled": true
   },
   "outputs": [
    {
     "name": "stdout",
     "output_type": "stream",
     "text": [
      "                                       Name Platform\n",
      "Global_Sales                                        \n",
      "0.01          ef - a fairy tale of the two.      PS2\n",
      "0.02                       Zombie Hunters 2      PS2\n",
      "0.03                        Wrestle Kingdom      PS2\n",
      "0.04                       Yourself Fitness      PS2\n",
      "0.05          Yanya Caballista: City Skater      PS2\n",
      "...                                     ...      ...\n",
      "11.66                        Gran Turismo 4      PS2\n",
      "13.10                  Grand Theft Auto III      PS2\n",
      "14.98                Gran Turismo 3: A-Spec      PS2\n",
      "16.15           Grand Theft Auto: Vice City      PS2\n",
      "20.81         Grand Theft Auto: San Andreas      PS2\n",
      "\n",
      "[295 rows x 2 columns]\n"
     ]
    }
   ],
   "source": [
    "print(PS2)"
   ]
  },
  {
   "cell_type": "code",
   "execution_count": 97,
   "metadata": {
    "scrolled": true
   },
   "outputs": [
    {
     "name": "stdout",
     "output_type": "stream",
     "text": [
      "                                                  Name Platform\n",
      "Global_Sales                                                   \n",
      "0.01                       Winning Post 7 Maximum 2008      PS3\n",
      "0.02          Zillions of Enemy X: Zetsukai no Crusade      PS3\n",
      "0.03                               XBLAZE Code: Embryo      PS3\n",
      "0.04             Winter Sports 3: The Great Tournament      PS3\n",
      "0.05                                  Yoru no Nai Kuni      PS3\n",
      "...                                                ...      ...\n",
      "10.77                                   Gran Turismo 5      PS3\n",
      "12.73                          Call of Duty: Black Ops      PS3\n",
      "13.46                   Call of Duty: Modern Warfare 3      PS3\n",
      "14.03                       Call of Duty: Black Ops II      PS3\n",
      "21.40                               Grand Theft Auto V      PS3\n",
      "\n",
      "[256 rows x 2 columns]\n"
     ]
    }
   ],
   "source": [
    "print(PS3)"
   ]
  },
  {
   "cell_type": "code",
   "execution_count": 98,
   "metadata": {
    "scrolled": true
   },
   "outputs": [
    {
     "name": "stdout",
     "output_type": "stream",
     "text": [
      "               Rank                            Name Platform    Year  \\\n",
      "Global_Sales                                                           \n",
      "0.01          16573              Resident Evil 5 HD      PS4  2016.0   \n",
      "0.02          15949                      Worms: WMD      PS4  2016.0   \n",
      "0.03          14899             Tour de France 2014      PS4  2017.0   \n",
      "0.04          14094                          XCOM 2      PS4  2016.0   \n",
      "0.05          13437                          ZombiU      PS4  2016.0   \n",
      "...             ...                             ...      ...     ...   \n",
      "7.60             94  Call of Duty: Advanced Warfare      PS4  2014.0   \n",
      "7.67             93    Star Wars Battlefront (2015)      PS4  2015.0   \n",
      "8.49             78                         FIFA 16      PS4  2015.0   \n",
      "11.98            45              Grand Theft Auto V      PS4  2014.0   \n",
      "14.24            34       Call of Duty: Black Ops 3      PS4  2015.0   \n",
      "\n",
      "                   Genre             Publisher  NA_Sales  EU_Sales  JP_Sales  \\\n",
      "Global_Sales                                                                   \n",
      "0.01          Simulation     UIG Entertainment      0.01      0.01      0.01   \n",
      "0.02              Sports                  Yeti      0.02      0.02      0.02   \n",
      "0.03              Sports                  Sega      0.03      0.03      0.03   \n",
      "0.04            Strategy               Ubisoft      0.03      0.04      0.04   \n",
      "0.05              Sports           Xseed Games      0.04      0.04      0.05   \n",
      "...                  ...                   ...       ...       ...       ...   \n",
      "7.60             Shooter            Activision      2.80      3.30      0.14   \n",
      "7.67             Shooter       Electronic Arts      2.93      3.29      0.22   \n",
      "8.49              Sports       Electronic Arts      1.11      6.06      0.06   \n",
      "11.98             Action  Take-Two Interactive      3.80      5.81      0.36   \n",
      "14.24            Shooter            Activision      5.77      5.81      0.35   \n",
      "\n",
      "              Other_Sales  \n",
      "Global_Sales               \n",
      "0.01                 0.00  \n",
      "0.02                 0.00  \n",
      "0.03                 0.01  \n",
      "0.04                 0.01  \n",
      "0.05                 0.01  \n",
      "...                   ...  \n",
      "7.60                 1.37  \n",
      "7.67                 1.23  \n",
      "8.49                 1.26  \n",
      "11.98                2.02  \n",
      "14.24                2.31  \n",
      "\n",
      "[134 rows x 10 columns]\n"
     ]
    }
   ],
   "source": [
    "print(PS4)"
   ]
  },
  {
   "cell_type": "code",
   "execution_count": 99,
   "metadata": {},
   "outputs": [
    {
     "name": "stdout",
     "output_type": "stream",
     "text": [
      "                                                Name Platform\n",
      "Global_Sales                                                 \n",
      "0.01                                     XI Coliseum      PSP\n",
      "0.02                                          Zwei!!      PSP\n",
      "0.03                             Winning Post 7 2009      PSP\n",
      "0.04                                World Poker Tour      PSP\n",
      "0.05                        Ys: The Ark of Napishtim      PSP\n",
      "...                                              ...      ...\n",
      "4.22                                          Daxter      PSP\n",
      "4.87                        Monster Hunter Freedom 3      PSP\n",
      "5.08             Grand Theft Auto: Vice City Stories      PSP\n",
      "5.50                    Monster Hunter Freedom Unite      PSP\n",
      "7.72          Grand Theft Auto: Liberty City Stories      PSP\n",
      "\n",
      "[135 rows x 2 columns]\n"
     ]
    }
   ],
   "source": [
    "print(PSP)"
   ]
  },
  {
   "cell_type": "code",
   "execution_count": 100,
   "metadata": {},
   "outputs": [
    {
     "name": "stdout",
     "output_type": "stream",
     "text": [
      "                                                   Name Platform\n",
      "Global_Sales                                                    \n",
      "0.01                        htoL#NiQ: The Firefly Diary      PSV\n",
      "0.02                                      Yuusha Shisu.      PSV\n",
      "0.03                              Xblaze: Lost Memories      PSV\n",
      "0.04          Yuki Yuna is a Hero: Memory of the Forest      PSV\n",
      "0.05                                XBLAZE Code: Embryo      PSV\n",
      "...                                                 ...      ...\n",
      "1.38                                  Persona 4: Golden      PSV\n",
      "1.47                            LittleBigPlanet PS Vita      PSV\n",
      "1.69               Call of Duty Black Ops: Declassified      PSV\n",
      "1.74                            Uncharted: Golden Abyss      PSV\n",
      "2.25                                          Minecraft      PSV\n",
      "\n",
      "[68 rows x 2 columns]\n"
     ]
    }
   ],
   "source": [
    "print(PSV)"
   ]
  },
  {
   "cell_type": "code",
   "execution_count": 101,
   "metadata": {},
   "outputs": [
    {
     "name": "stdout",
     "output_type": "stream",
     "text": [
      "               Rank                                               Name  \\\n",
      "Global_Sales                                                             \n",
      "0.02          15349        Shippuu Mahou Daisakusen: Kingdom-Grandprix   \n",
      "0.03          14861                                              Rampo   \n",
      "0.04          13973                              World Series Baseball   \n",
      "0.05          13417  Virtua Fighter CG Portrait Series Vol.5: Wolf ...   \n",
      "0.06          12805                                   Worldwide Soccer   \n",
      "0.07          12109                        Super Real Mahjong Graffiti   \n",
      "0.08          11679                                              Virus   \n",
      "0.09          11186                  World Cup '98 France: Road to Win   \n",
      "0.10          10710                                    Sword & Sorcery   \n",
      "0.11          10386                                        Winter Heat   \n",
      "0.12           9987  Virtua Fighter CG Portrait Series Vol.4: Pai Chan   \n",
      "0.13           9642                              The House of the Dead   \n",
      "0.14           9259                                             Desire   \n",
      "0.15           8982                                   Saturn Bomberman   \n",
      "0.16           8636                                  Eve: The Lost One   \n",
      "0.17           8462                           The King of Fighters '97   \n",
      "0.18           8126                Vampire Savior: The Lord of Vampire   \n",
      "0.19           7954                             Super Real Mahjong P V   \n",
      "0.20           7649                                          Wing Arms   \n",
      "0.21           7466                        X-Men: Children of the Atom   \n",
      "0.22           7296             Kanzen Chuuki Pro Yakyuu Greatest Nine   \n",
      "0.23           7024                                Virtua Fighter Kids   \n",
      "0.25           6708                               Sentimental Graffiti   \n",
      "0.26           6606                           X-Men vs. Street Fighter   \n",
      "0.28           6255                           The King of Fighters '95   \n",
      "0.29           5997                          J-League Victory Goal '96   \n",
      "0.30           5906                                       Virtua Cop 2   \n",
      "0.31           5780  Shin Megami Tensei: Devil Summoner - Soul Hackers   \n",
      "0.32           5647                             Street Fighter Alpha 2   \n",
      "0.34           5395              Night Warriors: Darkstalkers' Revenge   \n",
      "0.35           5340             Street Fighter Alpha: Warriors' Dreams   \n",
      "0.36           5170                         Nonomura Byoin no Hitobito   \n",
      "0.37           5118                                     Panzer Dragoon   \n",
      "0.38           5044                Tokimeki Memorial: Forever with You   \n",
      "0.40           4823                                    Fighting Vipers   \n",
      "0.41           4713                                 Mobile Suit Gundam   \n",
      "0.42           4672             Neon Genesis Evangelion 2nd Impression   \n",
      "0.43           4509                              NiGHTS into dreams...   \n",
      "0.44           4483                            Neon Genesis Evangelion   \n",
      "0.49           4052            J-League Pro Soccer Club wo Tsukurou! 2   \n",
      "0.53           3758     Sakura Taisen 2 - Kimi, Shinitamou Koto Nakare   \n",
      "0.55           3674                   Super Robot Taisen F Kanketsuhen   \n",
      "0.60           3359                                      Puyo Puyo Sun   \n",
      "0.62           3276                                         Virtua Cop   \n",
      "1.07           1925                                     Virtua Fighter   \n",
      "1.16           1755                            Sega Rally Championship   \n",
      "1.93            890                                   Virtua Fighter 2   \n",
      "\n",
      "             Platform    Year         Genre                     Publisher  \\\n",
      "Global_Sales                                                                \n",
      "0.02              SAT  1998.0        Sports            Victor Interactive   \n",
      "0.03              SAT  1998.0      Strategy                         Taito   \n",
      "0.04              SAT  1996.0        Sports                       Sunsoft   \n",
      "0.05              SAT  1998.0      Strategy                    Shogakukan   \n",
      "0.06              SAT  1998.0        Sports                       Yumedia   \n",
      "0.07              SAT  1997.0        Racing                          Warp   \n",
      "0.08              SAT  1998.0      Strategy                          Sega   \n",
      "0.09              SAT  1999.0      Strategy                          Sega   \n",
      "0.10              SAT  1997.0       Shooter                           SNK   \n",
      "0.11              SAT  1998.0      Strategy                    Tecmo Koei   \n",
      "0.12              SAT  1998.0      Strategy                    Tecmo Koei   \n",
      "0.13              SAT  1997.0      Strategy                          Sega   \n",
      "0.14              SAT  1997.0        Racing                          Sega   \n",
      "0.15              SAT  1997.0      Strategy                          Sega   \n",
      "0.16              SAT  1998.0     Adventure                     Imagineer   \n",
      "0.17              SAT  1998.0       Shooter                           SNK   \n",
      "0.18              SAT  1998.0        Racing                    Tecmo Koei   \n",
      "0.19              SAT  1995.0    Simulation              Seta Corporation   \n",
      "0.20              SAT  1996.0      Strategy                          Sega   \n",
      "0.21              SAT  1997.0        Sports                          Sega   \n",
      "0.22              SAT  1995.0        Sports                          Sega   \n",
      "0.23              SAT  1996.0  Role-Playing                          Sega   \n",
      "0.25              SAT  1998.0      Strategy                          Sega   \n",
      "0.26              SAT  1997.0        Sports                          Sega   \n",
      "0.28              SAT  1997.0      Strategy                          Sega   \n",
      "0.29              SAT  1996.0        Sports                          Sega   \n",
      "0.30              SAT  1996.0      Strategy                          Sega   \n",
      "0.31              SAT  1997.0       Shooter                          Sega   \n",
      "0.32              SAT  1995.0      Fighting            Virgin Interactive   \n",
      "0.34              SAT  1995.0       Shooter            Virgin Interactive   \n",
      "0.35              SAT  1996.0      Fighting                        Capcom   \n",
      "0.36              SAT  1996.0     Adventure                           Elf   \n",
      "0.37              SAT  1995.0       Shooter                          Sega   \n",
      "0.38              SAT  1996.0    Simulation  Konami Digital Entertainment   \n",
      "0.40              SAT  1995.0      Fighting                          Sega   \n",
      "0.41              SAT  1996.0     Adventure                          Sega   \n",
      "0.42              SAT  1997.0  Role-Playing                          Sega   \n",
      "0.43              SAT  1996.0      Platform                          Sega   \n",
      "0.44              SAT  1996.0     Adventure                          Sega   \n",
      "0.49              SAT  1997.0        Sports                          Sega   \n",
      "0.53              SAT  1998.0     Adventure                          Sega   \n",
      "0.55              SAT  1998.0      Strategy                          Sega   \n",
      "0.60              SAT  1997.0        Puzzle                       Compile   \n",
      "0.62              SAT  1996.0       Shooter                          Sega   \n",
      "1.07              SAT  1994.0      Fighting                          Sega   \n",
      "1.16              SAT  1995.0        Racing                          Sega   \n",
      "1.93              SAT  1995.0      Fighting                          Sega   \n",
      "\n",
      "              NA_Sales  EU_Sales  JP_Sales  Other_Sales  \n",
      "Global_Sales                                             \n",
      "0.02              0.00      0.00      0.02         0.00  \n",
      "0.03              0.00      0.00      0.03         0.00  \n",
      "0.04              0.00      0.00      0.04         0.00  \n",
      "0.05              0.00      0.00      0.05         0.00  \n",
      "0.06              0.00      0.00      0.06         0.00  \n",
      "0.07              0.00      0.00      0.07         0.00  \n",
      "0.08              0.00      0.00      0.08         0.00  \n",
      "0.09              0.00      0.00      0.09         0.00  \n",
      "0.10              0.00      0.00      0.10         0.00  \n",
      "0.11              0.00      0.00      0.11         0.00  \n",
      "0.12              0.00      0.00      0.12         0.00  \n",
      "0.13              0.00      0.00      0.13         0.00  \n",
      "0.14              0.00      0.00      0.14         0.00  \n",
      "0.15              0.00      0.00      0.15         0.00  \n",
      "0.16              0.00      0.00      0.16         0.00  \n",
      "0.17              0.00      0.00      0.17         0.00  \n",
      "0.18              0.00      0.00      0.18         0.00  \n",
      "0.19              0.00      0.00      0.19         0.00  \n",
      "0.20              0.00      0.00      0.20         0.00  \n",
      "0.21              0.00      0.00      0.21         0.00  \n",
      "0.22              0.00      0.00      0.22         0.00  \n",
      "0.23              0.00      0.00      0.23         0.00  \n",
      "0.25              0.00      0.00      0.25         0.00  \n",
      "0.26              0.00      0.00      0.26         0.00  \n",
      "0.28              0.00      0.00      0.28         0.00  \n",
      "0.29              0.00      0.00      0.29         0.00  \n",
      "0.30              0.00      0.00      0.30         0.00  \n",
      "0.31              0.00      0.00      0.31         0.00  \n",
      "0.32              0.00      0.00      0.32         0.00  \n",
      "0.34              0.00      0.00      0.34         0.00  \n",
      "0.35              0.00      0.00      0.35         0.00  \n",
      "0.36              0.00      0.00      0.36         0.00  \n",
      "0.37              0.00      0.00      0.37         0.00  \n",
      "0.38              0.00      0.00      0.38         0.00  \n",
      "0.40              0.00      0.00      0.40         0.00  \n",
      "0.41              0.00      0.00      0.41         0.00  \n",
      "0.42              0.00      0.00      0.42         0.00  \n",
      "0.43              0.00      0.00      0.43         0.00  \n",
      "0.44              0.00      0.00      0.44         0.00  \n",
      "0.49              0.00      0.00      0.49         0.00  \n",
      "0.53              0.00      0.00      0.53         0.00  \n",
      "0.55              0.00      0.00      0.55         0.00  \n",
      "0.60              0.00      0.00      0.60         0.00  \n",
      "0.62              0.00      0.00      0.62         0.00  \n",
      "1.07              0.17      0.12      0.77         0.02  \n",
      "1.16              0.21      0.16      0.77         0.02  \n",
      "1.93              0.34      0.26      1.30         0.03  \n"
     ]
    }
   ],
   "source": [
    "print(SAT)"
   ]
  },
  {
   "cell_type": "code",
   "execution_count": 102,
   "metadata": {},
   "outputs": [
    {
     "name": "stdout",
     "output_type": "stream",
     "text": [
      "               Rank                                              Name  \\\n",
      "Global_Sales                                                            \n",
      "0.05          13454                             Game no Kanzume Vol 2   \n",
      "0.06          12572                Record of Lodoss War: Eiyuu Sensou   \n",
      "0.07          11753  Formula One World Championship: Beyond the Limit   \n",
      "0.14           9016                                  Shining Force CD   \n",
      "1.50           1263                                          Sonic CD   \n",
      "\n",
      "             Platform    Year         Genre Publisher  NA_Sales  EU_Sales  \\\n",
      "Global_Sales                                                                \n",
      "0.05              SCD  1994.0          Misc      Sega       0.0      0.00   \n",
      "0.06              SCD  1994.0  Role-Playing      Sega       0.0      0.00   \n",
      "0.07              SCD  1994.0        Racing      Sega       0.0      0.00   \n",
      "0.14              SCD  1994.0      Strategy      Sega       0.0      0.00   \n",
      "1.50              SCD  1993.0      Platform      Sega       1.0      0.36   \n",
      "\n",
      "              JP_Sales  Other_Sales  \n",
      "Global_Sales                         \n",
      "0.05              0.05         0.00  \n",
      "0.06              0.06         0.00  \n",
      "0.07              0.07         0.00  \n",
      "0.14              0.14         0.00  \n",
      "1.50              0.09         0.05  \n"
     ]
    }
   ],
   "source": [
    "print(SCD)"
   ]
  },
  {
   "cell_type": "code",
   "execution_count": 103,
   "metadata": {},
   "outputs": [
    {
     "name": "stdout",
     "output_type": "stream",
     "text": [
      "               Rank                                           Name Platform  \\\n",
      "Global_Sales                                                                  \n",
      "0.01          16108                            Rock N' Roll Racing     SNES   \n",
      "0.02          15690   World Class Rugby 2: Kokunai Gekitou Hen '93     SNES   \n",
      "0.03          14901  The Great Battle Gaiden 2: Matsuri da Wasshoi     SNES   \n",
      "0.04          13737                        Zen-Nippon GT Senshuken     SNES   \n",
      "0.05          13257                            Super Jinsei Game 2     SNES   \n",
      "...             ...                                            ...      ...   \n",
      "6.30            137           Street Fighter II: The World Warrior     SNES   \n",
      "8.76             77                               Super Mario Kart     SNES   \n",
      "9.30             72                            Donkey Kong Country     SNES   \n",
      "10.55            58                          Super Mario All-Stars     SNES   \n",
      "20.61            19                              Super Mario World     SNES   \n",
      "\n",
      "                Year         Genre         Publisher  NA_Sales  EU_Sales  \\\n",
      "Global_Sales                                                               \n",
      "0.01          1993.0        Racing         Interplay      0.00      0.00   \n",
      "0.02          1996.0        Sports           Sunsoft      0.00      0.00   \n",
      "0.03          1996.0      Strategy             Taito      0.00      0.00   \n",
      "0.04          1996.0  Role-Playing  Enix Corporation      0.00      0.00   \n",
      "0.05          1996.0        Sports               Vap      0.00      0.00   \n",
      "...              ...           ...               ...       ...       ...   \n",
      "6.30          1992.0      Fighting            Capcom      2.47      0.83   \n",
      "8.76          1992.0        Racing          Nintendo      3.54      1.24   \n",
      "9.30          1994.0      Platform          Nintendo      4.36      1.71   \n",
      "10.55         1993.0      Platform          Nintendo      5.99      2.15   \n",
      "20.61         1990.0      Platform          Nintendo     12.78      3.75   \n",
      "\n",
      "              JP_Sales  Other_Sales  \n",
      "Global_Sales                         \n",
      "0.01              0.01         0.00  \n",
      "0.02              0.02         0.00  \n",
      "0.03              0.03         0.00  \n",
      "0.04              0.04         0.00  \n",
      "0.05              0.05         0.00  \n",
      "...                ...          ...  \n",
      "6.30              2.87         0.12  \n",
      "8.76              3.81         0.18  \n",
      "9.30              3.00         0.23  \n",
      "10.55             2.12         0.29  \n",
      "20.61             3.54         0.55  \n",
      "\n",
      "[116 rows x 10 columns]\n"
     ]
    }
   ],
   "source": [
    "print(SNES)"
   ]
  },
  {
   "cell_type": "code",
   "execution_count": 104,
   "metadata": {},
   "outputs": [
    {
     "name": "stdout",
     "output_type": "stream",
     "text": [
      "               Rank                            Name Platform    Year  \\\n",
      "Global_Sales                                                           \n",
      "0.02          15538  Ginga Fukei Densetsu: Sapphire     TG16  1995.0   \n",
      "0.14           9225                      Doukyuusei     TG16  1995.0   \n",
      "\n",
      "                  Genre    Publisher  NA_Sales  EU_Sales  JP_Sales  \\\n",
      "Global_Sales                                                         \n",
      "0.02            Shooter  Hudson Soft       0.0       0.0      0.02   \n",
      "0.14          Adventure          NEC       0.0       0.0      0.14   \n",
      "\n",
      "              Other_Sales  \n",
      "Global_Sales               \n",
      "0.02                  0.0  \n",
      "0.14                  0.0  \n"
     ]
    }
   ],
   "source": [
    "print(TG16)"
   ]
  },
  {
   "cell_type": "code",
   "execution_count": 105,
   "metadata": {},
   "outputs": [
    {
     "name": "stdout",
     "output_type": "stream",
     "text": [
      "               Rank                                       Name Platform  \\\n",
      "Global_Sales                                                              \n",
      "0.03          14174      SD Gundam G Generation: Gather Beat 2       WS   \n",
      "0.17           8308      Super Robot Taisen Compact 2 Dai-1-Bu       WS   \n",
      "0.18           8052  Chocobo no Fushigi Dungeon for WonderSwan       WS   \n",
      "0.25           6671                           Final Fantasy II       WS   \n",
      "0.28           6135             Digimon Adventure: Anode Tamer       WS   \n",
      "0.51           3933                              Final Fantasy       WS   \n",
      "\n",
      "                Year         Genre           Publisher  NA_Sales  EU_Sales  \\\n",
      "Global_Sales                                                                 \n",
      "0.03          2001.0      Strategy  Namco Bandai Games       0.0       0.0   \n",
      "0.17          2000.0      Strategy  Namco Bandai Games       0.0       0.0   \n",
      "0.18          1999.0  Role-Playing  Namco Bandai Games       0.0       0.0   \n",
      "0.25          2001.0  Role-Playing          SquareSoft       0.0       0.0   \n",
      "0.28          1999.0  Role-Playing  Namco Bandai Games       0.0       0.0   \n",
      "0.51          2000.0  Role-Playing          SquareSoft       0.0       0.0   \n",
      "\n",
      "              JP_Sales  Other_Sales  \n",
      "Global_Sales                         \n",
      "0.03              0.03          0.0  \n",
      "0.17              0.17          0.0  \n",
      "0.18              0.18          0.0  \n",
      "0.25              0.25          0.0  \n",
      "0.28              0.28          0.0  \n",
      "0.51              0.51          0.0  \n"
     ]
    }
   ],
   "source": [
    "print(WS)"
   ]
  },
  {
   "cell_type": "code",
   "execution_count": 106,
   "metadata": {},
   "outputs": [
    {
     "name": "stdout",
     "output_type": "stream",
     "text": [
      "                                                           Name Platform\n",
      "Global_Sales                                                            \n",
      "0.01                                        th!nk Logic Trainer      Wii\n",
      "0.02                 Yu-Gi-Oh! 5D's Wheelie Breakers (JP sales)      Wii\n",
      "0.03                                         thinkSMART FAMILY!      Wii\n",
      "0.04                             Twin Strike: Operation Thunder      Wii\n",
      "0.05          World Series of Poker: Tournament of Champions...      Wii\n",
      "...                                                         ...      ...\n",
      "28.62                                 New Super Mario Bros. Wii      Wii\n",
      "29.02                                                  Wii Play      Wii\n",
      "33.00                                         Wii Sports Resort      Wii\n",
      "35.82                                            Mario Kart Wii      Wii\n",
      "82.74                                                Wii Sports      Wii\n",
      "\n",
      "[219 rows x 2 columns]\n"
     ]
    }
   ],
   "source": [
    "print(Wii)"
   ]
  },
  {
   "cell_type": "code",
   "execution_count": 107,
   "metadata": {},
   "outputs": [
    {
     "name": "stdout",
     "output_type": "stream",
     "text": [
      "               Rank                                               Name  \\\n",
      "Global_Sales                                                             \n",
      "0.01          16459                      The Book of Unwritten Tales 2   \n",
      "0.02          15890                                    Sniper Elite V2   \n",
      "0.03          14888      YoKai Watch Dance: Just Dance Special Version   \n",
      "0.04          14054                                       Rabbids Land   \n",
      "0.05          13452  SpongeBob SquarePants: Plankton's Robotic Revenge   \n",
      "...             ...                                                ...   \n",
      "4.44            247                                      Nintendo Land   \n",
      "4.57            236                                           Splatoon   \n",
      "5.02            204                Super Smash Bros. for Wii U and 3DS   \n",
      "5.19            184                            New Super Mario Bros. U   \n",
      "6.96            109                                       Mario Kart 8   \n",
      "\n",
      "             Platform    Year         Genre           Publisher  NA_Sales  \\\n",
      "Global_Sales                                                                \n",
      "0.01             WiiU  2016.0  Role-Playing         Square Enix      0.00   \n",
      "0.02             WiiU  2016.0      Strategy          Tecmo Koei      0.02   \n",
      "0.03             WiiU  2016.0        Sports  Namco Bandai Games      0.02   \n",
      "0.04             WiiU  2014.0          Misc             Ubisoft      0.02   \n",
      "0.05             WiiU  2015.0       Shooter        Nordic Games      0.04   \n",
      "...               ...     ...           ...                 ...       ...   \n",
      "4.44             WiiU  2012.0          Misc            Nintendo      2.55   \n",
      "4.57             WiiU  2015.0       Shooter            Nintendo      1.55   \n",
      "5.02             WiiU  2014.0      Fighting            Nintendo      2.59   \n",
      "5.19             WiiU  2012.0      Platform            Nintendo      2.32   \n",
      "6.96             WiiU  2014.0        Racing            Nintendo      3.13   \n",
      "\n",
      "              EU_Sales  JP_Sales  Other_Sales  \n",
      "Global_Sales                                   \n",
      "0.01              0.01      0.01         0.00  \n",
      "0.02              0.02      0.02         0.00  \n",
      "0.03              0.03      0.03         0.00  \n",
      "0.04              0.02      0.00         0.00  \n",
      "0.05              0.04      0.00         0.00  \n",
      "...                ...       ...          ...  \n",
      "4.44              1.11      0.46         0.33  \n",
      "4.57              1.15      1.44         0.43  \n",
      "5.02              1.06      0.80         0.57  \n",
      "5.19              1.30      1.27         0.31  \n",
      "6.96              2.07      1.27         0.49  \n",
      "\n",
      "[74 rows x 10 columns]\n"
     ]
    }
   ],
   "source": [
    "print(WiiU)"
   ]
  },
  {
   "cell_type": "code",
   "execution_count": 108,
   "metadata": {},
   "outputs": [
    {
     "name": "stdout",
     "output_type": "stream",
     "text": [
      "                                                   Name Platform\n",
      "Global_Sales                                                    \n",
      "0.01                              Young Justice: Legacy     X360\n",
      "0.02                       uDraw Studio: Instant Artist     X360\n",
      "0.03          Triple Pack: Xbox Live Arcade Compilation     X360\n",
      "0.04                                     World of Tanks     X360\n",
      "0.05                              Yaiba: Ninja Gaiden Z     X360\n",
      "...                                                 ...      ...\n",
      "13.73                        Call of Duty: Black Ops II     X360\n",
      "14.64                           Call of Duty: Black Ops     X360\n",
      "14.76                    Call of Duty: Modern Warfare 3     X360\n",
      "16.38                                Grand Theft Auto V     X360\n",
      "21.82                                Kinect Adventures!     X360\n",
      "\n",
      "[261 rows x 2 columns]\n"
     ]
    }
   ],
   "source": [
    "print(X360)"
   ]
  },
  {
   "cell_type": "code",
   "execution_count": 109,
   "metadata": {},
   "outputs": [
    {
     "name": "stdout",
     "output_type": "stream",
     "text": [
      "               Rank                                        Name Platform  \\\n",
      "Global_Sales                                                               \n",
      "0.01          16429  Wallace & Gromit: Curse of the Were-Rabbit       XB   \n",
      "0.02          15957                                     Zathura       XB   \n",
      "0.03          14858         World War II Combat: Road To Berlin       XB   \n",
      "0.04          14088                             Worms 4: Mayhem       XB   \n",
      "0.05          13448                 Zapper: One Wicked Cricket!       XB   \n",
      "...             ...                                         ...      ...   \n",
      "2.66            569                                       Fable       XB   \n",
      "2.86            508            The Elder Scrolls III: Morrowind       XB   \n",
      "3.02            465                  Tom Clancy's Splinter Cell       XB   \n",
      "6.43            130                        Halo: Combat Evolved       XB   \n",
      "8.49             80                                      Halo 2       XB   \n",
      "\n",
      "                Year         Genre               Publisher  NA_Sales  \\\n",
      "Global_Sales                                                           \n",
      "0.01          2006.0        Sports                 Unknown      0.01   \n",
      "0.02          2006.0        Sports  Zoo Digital Publishing      0.02   \n",
      "0.03          2006.0      Strategy       Xicat Interactive      0.03   \n",
      "0.04          2006.0      Strategy                XS Games      0.03   \n",
      "0.05          2006.0      Strategy  Zoo Digital Publishing      0.04   \n",
      "...              ...           ...                     ...       ...   \n",
      "2.66          2004.0  Role-Playing  Microsoft Game Studios      1.99   \n",
      "2.86          2002.0  Role-Playing                 Ubisoft      2.09   \n",
      "3.02          2002.0        Action                 Ubisoft      1.85   \n",
      "6.43          2001.0       Shooter  Microsoft Game Studios      4.98   \n",
      "8.49          2004.0       Shooter  Microsoft Game Studios      6.82   \n",
      "\n",
      "              EU_Sales  JP_Sales  Other_Sales  \n",
      "Global_Sales                                   \n",
      "0.01              0.00      0.01         0.00  \n",
      "0.02              0.01      0.00         0.00  \n",
      "0.03              0.01      0.03         0.00  \n",
      "0.04              0.01      0.00         0.00  \n",
      "0.05              0.01      0.05         0.00  \n",
      "...                ...       ...          ...  \n",
      "2.66              0.58      0.00         0.09  \n",
      "2.86              0.63      0.03         0.11  \n",
      "3.02              1.04      0.00         0.13  \n",
      "6.43              1.30      0.08         0.07  \n",
      "8.49              1.53      0.05         0.08  \n",
      "\n",
      "[136 rows x 10 columns]\n"
     ]
    }
   ],
   "source": [
    "print(XB)"
   ]
  },
  {
   "cell_type": "code",
   "execution_count": 110,
   "metadata": {},
   "outputs": [
    {
     "name": "stdout",
     "output_type": "stream",
     "text": [
      "               Rank                                 Name Platform    Year  \\\n",
      "Global_Sales                                                                \n",
      "0.01          16579  WRC 5: FIA World Rally Championship     XOne  2016.0   \n",
      "0.02          15804                               XCOM 2     XOne  2016.0   \n",
      "0.03          14763                        The Golf Club     XOne  2016.0   \n",
      "0.04          13996                    Warriors Orochi 3     XOne  2016.0   \n",
      "0.05          13290                          Wasteland 2     XOne  2016.0   \n",
      "...             ...                                  ...      ...     ...   \n",
      "4.09            288                            Fallout 4     XOne  2015.0   \n",
      "4.26            261                    Halo 5: Guardians     XOne  2015.0   \n",
      "5.08            198                   Grand Theft Auto V     XOne  2014.0   \n",
      "5.13            194       Call of Duty: Advanced Warfare     XOne  2014.0   \n",
      "7.30            102            Call of Duty: Black Ops 3     XOne  2015.0   \n",
      "\n",
      "                     Genre               Publisher  NA_Sales  EU_Sales  \\\n",
      "Global_Sales                                                             \n",
      "0.01                Sports                 Ubisoft      0.01      0.01   \n",
      "0.02              Strategy                 Ubisoft      0.02      0.02   \n",
      "0.03                Sports                 Unknown      0.03      0.03   \n",
      "0.04                Sports   Tru Blu Entertainment      0.04      0.04   \n",
      "0.05          Role-Playing                 Ubisoft      0.05      0.02   \n",
      "...                    ...                     ...       ...       ...   \n",
      "4.09          Role-Playing      Bethesda Softworks      2.45      1.26   \n",
      "4.26               Shooter  Microsoft Game Studios      2.64      1.20   \n",
      "5.08                Action    Take-Two Interactive      2.66      2.01   \n",
      "5.13               Shooter              Activision      3.21      1.53   \n",
      "7.30               Shooter              Activision      4.52      2.09   \n",
      "\n",
      "              JP_Sales  Other_Sales  \n",
      "Global_Sales                         \n",
      "0.01              0.01         0.00  \n",
      "0.02              0.00         0.00  \n",
      "0.03              0.00         0.00  \n",
      "0.04              0.00         0.00  \n",
      "0.05              0.00         0.01  \n",
      "...                ...          ...  \n",
      "4.09              0.01         0.37  \n",
      "4.26              0.03         0.39  \n",
      "5.08              0.00         0.41  \n",
      "5.13              0.01         0.38  \n",
      "7.30              0.01         0.67  \n",
      "\n",
      "[107 rows x 10 columns]\n"
     ]
    }
   ],
   "source": [
    "print(XOne)"
   ]
  },
  {
   "cell_type": "code",
   "execution_count": null,
   "metadata": {},
   "outputs": [],
   "source": []
  },
  {
   "cell_type": "code",
   "execution_count": null,
   "metadata": {},
   "outputs": [],
   "source": []
  },
  {
   "cell_type": "code",
   "execution_count": null,
   "metadata": {},
   "outputs": [],
   "source": []
  },
  {
   "cell_type": "code",
   "execution_count": null,
   "metadata": {},
   "outputs": [],
   "source": []
  }
 ],
 "metadata": {
  "kernelspec": {
   "display_name": "Python 3",
   "language": "python",
   "name": "python3"
  },
  "language_info": {
   "codemirror_mode": {
    "name": "ipython",
    "version": 3
   },
   "file_extension": ".py",
   "mimetype": "text/x-python",
   "name": "python",
   "nbconvert_exporter": "python",
   "pygments_lexer": "ipython3",
   "version": "3.8.5"
  }
 },
 "nbformat": 4,
 "nbformat_minor": 4
}
